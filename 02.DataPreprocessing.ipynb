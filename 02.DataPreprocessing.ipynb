{
 "cells": [
  {
   "cell_type": "markdown",
   "metadata": {},
   "source": [
    "## To Do list\n",
    "- 0. 데이터 parquet 형식으로 변환 및 로드\n",
    "- 1. 데이터 전처리(train,test dataset에서 모두 진행)\n",
    "    - ID, Cancelled, Diverted 제거\n",
    "    - Estimated_Departure_Time, Estimated_Arrival_Time 시와 분으로 나눠 볼 필요는 있을 듯\n",
    "    - Origin_State, Destination_State를 Origin_Airport와 Destination_Airport를 기반으로 결측치 채워주기\n",
    "    - 이후, Origin_Airport, Destination_Airport 제거\n",
    "    - Distance 스케일링\n",
    "    - Airline, Carrier_Code(IATA, DOT) 결측치 채우기\n",
    "- 2. 예측에 도움되는 피쳐 고르기\n",
    "- 3. 준지도학습 라벨링(train dataset에서 준지도학습 성능체크)\n",
    "    - Delay있는 데이터 선택 후 검증세트 생성\n",
    "    - 모델 탐색 및 피처 탐색 후 학습\n",
    "    - 검증세트 생성 후 준지도학습 라벨링 성능지표 체크"
   ]
  },
  {
   "cell_type": "markdown",
   "metadata": {},
   "source": [
    "### Import Module"
   ]
  },
  {
   "cell_type": "code",
   "execution_count": 2,
   "metadata": {},
   "outputs": [],
   "source": [
    "import pandas as pd\n",
    "import numpy as np\n",
    "import matplotlib.pyplot as plt\n",
    "import seaborn as sns\n",
    "import gc"
   ]
  },
  {
   "cell_type": "markdown",
   "metadata": {},
   "source": [
    "### Read and Convert Data"
   ]
  },
  {
   "cell_type": "code",
   "execution_count": 3,
   "metadata": {},
   "outputs": [],
   "source": [
    "def convert_parquet(df):\n",
    "    csv_dir = f'./data/{df}.csv'\n",
    "    read_df = pd.read_csv(csv_dir)\n",
    "    read_df.to_parquet(path=f'./data/{df}.parquet')\n",
    "    del read_df\n",
    "    gc.collect()\n",
    "    print(f'{df} Done')"
   ]
  },
  {
   "cell_type": "code",
   "execution_count": 4,
   "metadata": {},
   "outputs": [
    {
     "name": "stdout",
     "output_type": "stream",
     "text": [
      "train Done\n",
      "test Done\n"
     ]
    }
   ],
   "source": [
    "#convert_parquet('train')\n",
    "#convert_parquet('test')"
   ]
  },
  {
   "cell_type": "markdown",
   "metadata": {},
   "source": [
    "### Data Preprocessing"
   ]
  },
  {
   "cell_type": "markdown",
   "metadata": {},
   "source": [
    "ID, Cancelled, Diverted 제거"
   ]
  },
  {
   "cell_type": "code",
   "execution_count": 30,
   "metadata": {},
   "outputs": [],
   "source": [
    "train = pd.read_parquet('./data/train.parquet')\n",
    "test = pd.read_parquet('./data/test.parquet')"
   ]
  },
  {
   "cell_type": "code",
   "execution_count": 31,
   "metadata": {},
   "outputs": [],
   "source": [
    "train = train.drop(['ID','Cancelled','Diverted'],axis=1)\n",
    "test = test.drop(['ID','Cancelled','Diverted'],axis=1)"
   ]
  },
  {
   "cell_type": "markdown",
   "metadata": {},
   "source": [
    "- Estimated_Departure_Time, Estimated_Arrival_Time 시와 분 분리"
   ]
  },
  {
   "cell_type": "code",
   "execution_count": 32,
   "metadata": {},
   "outputs": [
    {
     "data": {
      "text/html": [
       "<div>\n",
       "<style scoped>\n",
       "    .dataframe tbody tr th:only-of-type {\n",
       "        vertical-align: middle;\n",
       "    }\n",
       "\n",
       "    .dataframe tbody tr th {\n",
       "        vertical-align: top;\n",
       "    }\n",
       "\n",
       "    .dataframe thead th {\n",
       "        text-align: right;\n",
       "    }\n",
       "</style>\n",
       "<table border=\"1\" class=\"dataframe\">\n",
       "  <thead>\n",
       "    <tr style=\"text-align: right;\">\n",
       "      <th></th>\n",
       "      <th>Month</th>\n",
       "      <th>Day_of_Month</th>\n",
       "      <th>Estimated_Departure_Time</th>\n",
       "      <th>Estimated_Arrival_Time</th>\n",
       "      <th>Origin_Airport</th>\n",
       "      <th>Origin_Airport_ID</th>\n",
       "      <th>Origin_State</th>\n",
       "      <th>Destination_Airport</th>\n",
       "      <th>Destination_Airport_ID</th>\n",
       "      <th>Destination_State</th>\n",
       "      <th>Distance</th>\n",
       "      <th>Airline</th>\n",
       "      <th>Carrier_Code(IATA)</th>\n",
       "      <th>Carrier_ID(DOT)</th>\n",
       "      <th>Tail_Number</th>\n",
       "      <th>Delay</th>\n",
       "    </tr>\n",
       "  </thead>\n",
       "  <tbody>\n",
       "    <tr>\n",
       "      <th>0</th>\n",
       "      <td>4</td>\n",
       "      <td>15</td>\n",
       "      <td>NaN</td>\n",
       "      <td>NaN</td>\n",
       "      <td>OKC</td>\n",
       "      <td>13851</td>\n",
       "      <td>Oklahoma</td>\n",
       "      <td>HOU</td>\n",
       "      <td>12191</td>\n",
       "      <td>Texas</td>\n",
       "      <td>419.0</td>\n",
       "      <td>Southwest Airlines Co.</td>\n",
       "      <td>WN</td>\n",
       "      <td>19393.0</td>\n",
       "      <td>N7858A</td>\n",
       "      <td>None</td>\n",
       "    </tr>\n",
       "    <tr>\n",
       "      <th>1</th>\n",
       "      <td>8</td>\n",
       "      <td>15</td>\n",
       "      <td>740.0</td>\n",
       "      <td>1024.0</td>\n",
       "      <td>ORD</td>\n",
       "      <td>13930</td>\n",
       "      <td>Illinois</td>\n",
       "      <td>SLC</td>\n",
       "      <td>14869</td>\n",
       "      <td>Utah</td>\n",
       "      <td>1250.0</td>\n",
       "      <td>SkyWest Airlines Inc.</td>\n",
       "      <td>UA</td>\n",
       "      <td>20304.0</td>\n",
       "      <td>N125SY</td>\n",
       "      <td>None</td>\n",
       "    </tr>\n",
       "    <tr>\n",
       "      <th>2</th>\n",
       "      <td>9</td>\n",
       "      <td>6</td>\n",
       "      <td>1610.0</td>\n",
       "      <td>1805.0</td>\n",
       "      <td>CLT</td>\n",
       "      <td>11057</td>\n",
       "      <td>North Carolina</td>\n",
       "      <td>LGA</td>\n",
       "      <td>12953</td>\n",
       "      <td>New York</td>\n",
       "      <td>544.0</td>\n",
       "      <td>American Airlines Inc.</td>\n",
       "      <td>AA</td>\n",
       "      <td>19805.0</td>\n",
       "      <td>N103US</td>\n",
       "      <td>None</td>\n",
       "    </tr>\n",
       "    <tr>\n",
       "      <th>3</th>\n",
       "      <td>7</td>\n",
       "      <td>10</td>\n",
       "      <td>905.0</td>\n",
       "      <td>1735.0</td>\n",
       "      <td>LAX</td>\n",
       "      <td>12892</td>\n",
       "      <td>California</td>\n",
       "      <td>EWR</td>\n",
       "      <td>11618</td>\n",
       "      <td>New Jersey</td>\n",
       "      <td>2454.0</td>\n",
       "      <td>United Air Lines Inc.</td>\n",
       "      <td>UA</td>\n",
       "      <td>NaN</td>\n",
       "      <td>N595UA</td>\n",
       "      <td>None</td>\n",
       "    </tr>\n",
       "    <tr>\n",
       "      <th>4</th>\n",
       "      <td>1</td>\n",
       "      <td>11</td>\n",
       "      <td>900.0</td>\n",
       "      <td>1019.0</td>\n",
       "      <td>SFO</td>\n",
       "      <td>14771</td>\n",
       "      <td>California</td>\n",
       "      <td>ACV</td>\n",
       "      <td>10157</td>\n",
       "      <td>California</td>\n",
       "      <td>250.0</td>\n",
       "      <td>SkyWest Airlines Inc.</td>\n",
       "      <td>UA</td>\n",
       "      <td>20304.0</td>\n",
       "      <td>N161SY</td>\n",
       "      <td>None</td>\n",
       "    </tr>\n",
       "  </tbody>\n",
       "</table>\n",
       "</div>"
      ],
      "text/plain": [
       "   Month  Day_of_Month  Estimated_Departure_Time  Estimated_Arrival_Time  \\\n",
       "0      4            15                       NaN                     NaN   \n",
       "1      8            15                     740.0                  1024.0   \n",
       "2      9             6                    1610.0                  1805.0   \n",
       "3      7            10                     905.0                  1735.0   \n",
       "4      1            11                     900.0                  1019.0   \n",
       "\n",
       "  Origin_Airport  Origin_Airport_ID    Origin_State Destination_Airport  \\\n",
       "0            OKC              13851        Oklahoma                 HOU   \n",
       "1            ORD              13930        Illinois                 SLC   \n",
       "2            CLT              11057  North Carolina                 LGA   \n",
       "3            LAX              12892      California                 EWR   \n",
       "4            SFO              14771      California                 ACV   \n",
       "\n",
       "   Destination_Airport_ID Destination_State  Distance                 Airline  \\\n",
       "0                   12191             Texas     419.0  Southwest Airlines Co.   \n",
       "1                   14869              Utah    1250.0   SkyWest Airlines Inc.   \n",
       "2                   12953          New York     544.0  American Airlines Inc.   \n",
       "3                   11618        New Jersey    2454.0   United Air Lines Inc.   \n",
       "4                   10157        California     250.0   SkyWest Airlines Inc.   \n",
       "\n",
       "  Carrier_Code(IATA)  Carrier_ID(DOT) Tail_Number Delay  \n",
       "0                 WN          19393.0      N7858A  None  \n",
       "1                 UA          20304.0      N125SY  None  \n",
       "2                 AA          19805.0      N103US  None  \n",
       "3                 UA              NaN      N595UA  None  \n",
       "4                 UA          20304.0      N161SY  None  "
      ]
     },
     "execution_count": 32,
     "metadata": {},
     "output_type": "execute_result"
    }
   ],
   "source": [
    "train.head()"
   ]
  },
  {
   "cell_type": "code",
   "execution_count": 33,
   "metadata": {},
   "outputs": [],
   "source": [
    "estimated_time = ['Estimated_Departure_Time', 'Estimated_Arrival_Time']"
   ]
  },
  {
   "cell_type": "code",
   "execution_count": 55,
   "metadata": {},
   "outputs": [],
   "source": [
    "#estimated_time 컬럼 최다빈도 값으로 결측치 채우기\n",
    "for i in estimated_time:\n",
    "    most_freq = train[i].mode()[0]\n",
    "    train[i] = train[i].fillna(most_freq)\n",
    "    test[i] = test[i].fillna(most_freq)"
   ]
  },
  {
   "cell_type": "code",
   "execution_count": 54,
   "metadata": {},
   "outputs": [
    {
     "data": {
      "text/plain": [
       "0         06\n",
       "1         07\n",
       "2         16\n",
       "3         09\n",
       "4         09\n",
       "          ..\n",
       "999995    09\n",
       "999996    09\n",
       "999997    08\n",
       "999998    16\n",
       "999999    18\n",
       "Name: Estimated_Departure_Time, Length: 1000000, dtype: object"
      ]
     },
     "execution_count": 54,
     "metadata": {},
     "output_type": "execute_result"
    }
   ],
   "source": [
    "train['Estimated_Departure_Time'].astype(int).astype(str).str.zfill(4).str.slice(0,2)"
   ]
  },
  {
   "cell_type": "code",
   "execution_count": 63,
   "metadata": {},
   "outputs": [],
   "source": [
    "for df in [train,test]:\n",
    "    df['Estimated_Departure_Hour'] = df['Estimated_Departure_Time'].astype(int).astype(str).str.zfill(4).str.slice(0,2).astype(int)\n",
    "    df['Estimated_Departure_Min'] = df['Estimated_Departure_Time'].astype(int).astype(str).str.zfill(4).str.slice(2,4).astype(int)\n",
    "\n",
    "    df['Estimated_Arrival_Hour'] = df['Estimated_Arrival_Time'].astype(int).astype(str).str.zfill(4).str.slice(0,2).astype(int)\n",
    "    df['Estimated_Arrival_Min'] = df['Estimated_Arrival_Time'].astype(int).astype(str).str.zfill(4).str.slice(2,4).astype(int)"
   ]
  },
  {
   "cell_type": "code",
   "execution_count": 68,
   "metadata": {},
   "outputs": [],
   "source": [
    "train = train.drop(['Estimated_Departure_Time','Estimated_Arrival_Time'],axis=1)\n",
    "test = test.drop(['Estimated_Departure_Time','Estimated_Arrival_Time'],axis=1)"
   ]
  },
  {
   "cell_type": "code",
   "execution_count": 72,
   "metadata": {},
   "outputs": [
    {
     "data": {
      "text/plain": [
       "Index(['Month', 'Day_of_Month', 'Origin_Airport', 'Origin_Airport_ID',\n",
       "       'Origin_State', 'Destination_Airport', 'Destination_Airport_ID',\n",
       "       'Destination_State', 'Distance', 'Airline', 'Carrier_Code(IATA)',\n",
       "       'Carrier_ID(DOT)', 'Tail_Number', 'Delay', 'Estimated_Departure_Hour',\n",
       "       'Estimated_Departure_Min', 'Estimated_Arrival_Hour',\n",
       "       'Estimated_Arrival_Min'],\n",
       "      dtype='object')"
      ]
     },
     "execution_count": 72,
     "metadata": {},
     "output_type": "execute_result"
    }
   ],
   "source": [
    "train.columns"
   ]
  },
  {
   "cell_type": "code",
   "execution_count": 73,
   "metadata": {},
   "outputs": [
    {
     "data": {
      "text/html": [
       "<div>\n",
       "<style scoped>\n",
       "    .dataframe tbody tr th:only-of-type {\n",
       "        vertical-align: middle;\n",
       "    }\n",
       "\n",
       "    .dataframe tbody tr th {\n",
       "        vertical-align: top;\n",
       "    }\n",
       "\n",
       "    .dataframe thead th {\n",
       "        text-align: right;\n",
       "    }\n",
       "</style>\n",
       "<table border=\"1\" class=\"dataframe\">\n",
       "  <thead>\n",
       "    <tr style=\"text-align: right;\">\n",
       "      <th></th>\n",
       "      <th>Month</th>\n",
       "      <th>Day_of_Month</th>\n",
       "      <th>Estimated_Departure_Hour</th>\n",
       "      <th>Estimated_Departure_Min</th>\n",
       "      <th>Estimated_Arrival_Hour</th>\n",
       "      <th>Estimated_Arrival_Min</th>\n",
       "      <th>Origin_Airport</th>\n",
       "      <th>Origin_Airport_ID</th>\n",
       "      <th>Origin_State</th>\n",
       "      <th>Destination_Airport</th>\n",
       "      <th>Destination_Airport_ID</th>\n",
       "      <th>Destination_State</th>\n",
       "      <th>Distance</th>\n",
       "      <th>Airline</th>\n",
       "      <th>Carrier_Code(IATA)</th>\n",
       "      <th>Carrier_ID(DOT)</th>\n",
       "      <th>Tail_Number</th>\n",
       "      <th>Delay</th>\n",
       "    </tr>\n",
       "  </thead>\n",
       "  <tbody>\n",
       "    <tr>\n",
       "      <th>0</th>\n",
       "      <td>12</td>\n",
       "      <td>16</td>\n",
       "      <td>11</td>\n",
       "      <td>56</td>\n",
       "      <td>19</td>\n",
       "      <td>0</td>\n",
       "      <td>IAH</td>\n",
       "      <td>12266</td>\n",
       "      <td>Texas</td>\n",
       "      <td>SAT</td>\n",
       "      <td>14683</td>\n",
       "      <td>Texas</td>\n",
       "      <td>191.0</td>\n",
       "      <td>United Air Lines Inc.</td>\n",
       "      <td>UA</td>\n",
       "      <td>NaN</td>\n",
       "      <td>N79402</td>\n",
       "      <td>NaN</td>\n",
       "    </tr>\n",
       "    <tr>\n",
       "      <th>1</th>\n",
       "      <td>9</td>\n",
       "      <td>12</td>\n",
       "      <td>15</td>\n",
       "      <td>0</td>\n",
       "      <td>17</td>\n",
       "      <td>15</td>\n",
       "      <td>EWR</td>\n",
       "      <td>11618</td>\n",
       "      <td>New Jersey</td>\n",
       "      <td>ATL</td>\n",
       "      <td>10397</td>\n",
       "      <td>None</td>\n",
       "      <td>746.0</td>\n",
       "      <td>Delta Air Lines Inc.</td>\n",
       "      <td>DL</td>\n",
       "      <td>19790.0</td>\n",
       "      <td>N3765</td>\n",
       "      <td>NaN</td>\n",
       "    </tr>\n",
       "    <tr>\n",
       "      <th>2</th>\n",
       "      <td>3</td>\n",
       "      <td>6</td>\n",
       "      <td>16</td>\n",
       "      <td>0</td>\n",
       "      <td>19</td>\n",
       "      <td>15</td>\n",
       "      <td>ORD</td>\n",
       "      <td>13930</td>\n",
       "      <td>Illinois</td>\n",
       "      <td>LGA</td>\n",
       "      <td>12953</td>\n",
       "      <td>New York</td>\n",
       "      <td>733.0</td>\n",
       "      <td>United Air Lines Inc.</td>\n",
       "      <td>UA</td>\n",
       "      <td>19977.0</td>\n",
       "      <td>N413UA</td>\n",
       "      <td>NaN</td>\n",
       "    </tr>\n",
       "    <tr>\n",
       "      <th>3</th>\n",
       "      <td>5</td>\n",
       "      <td>18</td>\n",
       "      <td>19</td>\n",
       "      <td>20</td>\n",
       "      <td>20</td>\n",
       "      <td>45</td>\n",
       "      <td>OAK</td>\n",
       "      <td>13796</td>\n",
       "      <td>California</td>\n",
       "      <td>LAX</td>\n",
       "      <td>12892</td>\n",
       "      <td>California</td>\n",
       "      <td>337.0</td>\n",
       "      <td>Southwest Airlines Co.</td>\n",
       "      <td>WN</td>\n",
       "      <td>19393.0</td>\n",
       "      <td>N905WN</td>\n",
       "      <td>NaN</td>\n",
       "    </tr>\n",
       "    <tr>\n",
       "      <th>4</th>\n",
       "      <td>7</td>\n",
       "      <td>7</td>\n",
       "      <td>19</td>\n",
       "      <td>15</td>\n",
       "      <td>21</td>\n",
       "      <td>52</td>\n",
       "      <td>FLL</td>\n",
       "      <td>11697</td>\n",
       "      <td>Florida</td>\n",
       "      <td>LAX</td>\n",
       "      <td>12892</td>\n",
       "      <td>California</td>\n",
       "      <td>2343.0</td>\n",
       "      <td>JetBlue Airways</td>\n",
       "      <td>B6</td>\n",
       "      <td>20409.0</td>\n",
       "      <td>N945JT</td>\n",
       "      <td>NaN</td>\n",
       "    </tr>\n",
       "    <tr>\n",
       "      <th>...</th>\n",
       "      <td>...</td>\n",
       "      <td>...</td>\n",
       "      <td>...</td>\n",
       "      <td>...</td>\n",
       "      <td>...</td>\n",
       "      <td>...</td>\n",
       "      <td>...</td>\n",
       "      <td>...</td>\n",
       "      <td>...</td>\n",
       "      <td>...</td>\n",
       "      <td>...</td>\n",
       "      <td>...</td>\n",
       "      <td>...</td>\n",
       "      <td>...</td>\n",
       "      <td>...</td>\n",
       "      <td>...</td>\n",
       "      <td>...</td>\n",
       "      <td>...</td>\n",
       "    </tr>\n",
       "    <tr>\n",
       "      <th>999995</th>\n",
       "      <td>6</td>\n",
       "      <td>2</td>\n",
       "      <td>6</td>\n",
       "      <td>0</td>\n",
       "      <td>22</td>\n",
       "      <td>40</td>\n",
       "      <td>LAX</td>\n",
       "      <td>12892</td>\n",
       "      <td>California</td>\n",
       "      <td>DEN</td>\n",
       "      <td>11292</td>\n",
       "      <td>Colorado</td>\n",
       "      <td>862.0</td>\n",
       "      <td>Southwest Airlines Co.</td>\n",
       "      <td>WN</td>\n",
       "      <td>19393.0</td>\n",
       "      <td>N720WN</td>\n",
       "      <td>NaN</td>\n",
       "    </tr>\n",
       "    <tr>\n",
       "      <th>999996</th>\n",
       "      <td>6</td>\n",
       "      <td>8</td>\n",
       "      <td>6</td>\n",
       "      <td>0</td>\n",
       "      <td>6</td>\n",
       "      <td>48</td>\n",
       "      <td>BUF</td>\n",
       "      <td>10792</td>\n",
       "      <td>New York</td>\n",
       "      <td>ORD</td>\n",
       "      <td>13930</td>\n",
       "      <td>Illinois</td>\n",
       "      <td>473.0</td>\n",
       "      <td>United Air Lines Inc.</td>\n",
       "      <td>UA</td>\n",
       "      <td>19977.0</td>\n",
       "      <td>N401UA</td>\n",
       "      <td>NaN</td>\n",
       "    </tr>\n",
       "    <tr>\n",
       "      <th>999997</th>\n",
       "      <td>6</td>\n",
       "      <td>11</td>\n",
       "      <td>17</td>\n",
       "      <td>10</td>\n",
       "      <td>19</td>\n",
       "      <td>7</td>\n",
       "      <td>IAD</td>\n",
       "      <td>12264</td>\n",
       "      <td>None</td>\n",
       "      <td>DTW</td>\n",
       "      <td>11433</td>\n",
       "      <td>Michigan</td>\n",
       "      <td>383.0</td>\n",
       "      <td>Mesa Airlines Inc.</td>\n",
       "      <td>UA</td>\n",
       "      <td>20378.0</td>\n",
       "      <td>N510MJ</td>\n",
       "      <td>NaN</td>\n",
       "    </tr>\n",
       "    <tr>\n",
       "      <th>999998</th>\n",
       "      <td>11</td>\n",
       "      <td>17</td>\n",
       "      <td>6</td>\n",
       "      <td>0</td>\n",
       "      <td>5</td>\n",
       "      <td>0</td>\n",
       "      <td>SAN</td>\n",
       "      <td>14679</td>\n",
       "      <td>California</td>\n",
       "      <td>BOS</td>\n",
       "      <td>10721</td>\n",
       "      <td>Massachusetts</td>\n",
       "      <td>2588.0</td>\n",
       "      <td>JetBlue Airways</td>\n",
       "      <td>B6</td>\n",
       "      <td>20409.0</td>\n",
       "      <td>N986JB</td>\n",
       "      <td>NaN</td>\n",
       "    </tr>\n",
       "    <tr>\n",
       "      <th>999999</th>\n",
       "      <td>10</td>\n",
       "      <td>13</td>\n",
       "      <td>12</td>\n",
       "      <td>20</td>\n",
       "      <td>13</td>\n",
       "      <td>45</td>\n",
       "      <td>OAK</td>\n",
       "      <td>13796</td>\n",
       "      <td>California</td>\n",
       "      <td>LAX</td>\n",
       "      <td>12892</td>\n",
       "      <td>None</td>\n",
       "      <td>337.0</td>\n",
       "      <td>None</td>\n",
       "      <td>WN</td>\n",
       "      <td>19393.0</td>\n",
       "      <td>N733SA</td>\n",
       "      <td>NaN</td>\n",
       "    </tr>\n",
       "  </tbody>\n",
       "</table>\n",
       "<p>1000000 rows × 18 columns</p>\n",
       "</div>"
      ],
      "text/plain": [
       "        Month  Day_of_Month  Estimated_Departure_Hour  \\\n",
       "0          12            16                        11   \n",
       "1           9            12                        15   \n",
       "2           3             6                        16   \n",
       "3           5            18                        19   \n",
       "4           7             7                        19   \n",
       "...       ...           ...                       ...   \n",
       "999995      6             2                         6   \n",
       "999996      6             8                         6   \n",
       "999997      6            11                        17   \n",
       "999998     11            17                         6   \n",
       "999999     10            13                        12   \n",
       "\n",
       "        Estimated_Departure_Min  Estimated_Arrival_Hour  \\\n",
       "0                            56                      19   \n",
       "1                             0                      17   \n",
       "2                             0                      19   \n",
       "3                            20                      20   \n",
       "4                            15                      21   \n",
       "...                         ...                     ...   \n",
       "999995                        0                      22   \n",
       "999996                        0                       6   \n",
       "999997                       10                      19   \n",
       "999998                        0                       5   \n",
       "999999                       20                      13   \n",
       "\n",
       "        Estimated_Arrival_Min Origin_Airport  Origin_Airport_ID Origin_State  \\\n",
       "0                           0            IAH              12266        Texas   \n",
       "1                          15            EWR              11618   New Jersey   \n",
       "2                          15            ORD              13930     Illinois   \n",
       "3                          45            OAK              13796   California   \n",
       "4                          52            FLL              11697      Florida   \n",
       "...                       ...            ...                ...          ...   \n",
       "999995                     40            LAX              12892   California   \n",
       "999996                     48            BUF              10792     New York   \n",
       "999997                      7            IAD              12264         None   \n",
       "999998                      0            SAN              14679   California   \n",
       "999999                     45            OAK              13796   California   \n",
       "\n",
       "       Destination_Airport  Destination_Airport_ID Destination_State  \\\n",
       "0                      SAT                   14683             Texas   \n",
       "1                      ATL                   10397              None   \n",
       "2                      LGA                   12953          New York   \n",
       "3                      LAX                   12892        California   \n",
       "4                      LAX                   12892        California   \n",
       "...                    ...                     ...               ...   \n",
       "999995                 DEN                   11292          Colorado   \n",
       "999996                 ORD                   13930          Illinois   \n",
       "999997                 DTW                   11433          Michigan   \n",
       "999998                 BOS                   10721     Massachusetts   \n",
       "999999                 LAX                   12892              None   \n",
       "\n",
       "        Distance                 Airline Carrier_Code(IATA)  Carrier_ID(DOT)  \\\n",
       "0          191.0   United Air Lines Inc.                 UA              NaN   \n",
       "1          746.0    Delta Air Lines Inc.                 DL          19790.0   \n",
       "2          733.0   United Air Lines Inc.                 UA          19977.0   \n",
       "3          337.0  Southwest Airlines Co.                 WN          19393.0   \n",
       "4         2343.0         JetBlue Airways                 B6          20409.0   \n",
       "...          ...                     ...                ...              ...   \n",
       "999995     862.0  Southwest Airlines Co.                 WN          19393.0   \n",
       "999996     473.0   United Air Lines Inc.                 UA          19977.0   \n",
       "999997     383.0      Mesa Airlines Inc.                 UA          20378.0   \n",
       "999998    2588.0         JetBlue Airways                 B6          20409.0   \n",
       "999999     337.0                    None                 WN          19393.0   \n",
       "\n",
       "       Tail_Number  Delay  \n",
       "0           N79402    NaN  \n",
       "1            N3765    NaN  \n",
       "2           N413UA    NaN  \n",
       "3           N905WN    NaN  \n",
       "4           N945JT    NaN  \n",
       "...            ...    ...  \n",
       "999995      N720WN    NaN  \n",
       "999996      N401UA    NaN  \n",
       "999997      N510MJ    NaN  \n",
       "999998      N986JB    NaN  \n",
       "999999      N733SA    NaN  \n",
       "\n",
       "[1000000 rows x 18 columns]"
      ]
     },
     "execution_count": 73,
     "metadata": {},
     "output_type": "execute_result"
    }
   ],
   "source": [
    "train.reindex(columns=['Month', 'Day_of_Month', 'Estimated_Departure_Hour',\n",
    "                       'Estimated_Departure_Min', 'Estimated_Arrival_Hour',\n",
    "                       'Estimated_Arrival_Min', 'Origin_Airport', 'Origin_Airport_ID',\n",
    "                       'Origin_State', 'Destination_Airport', 'Destination_Airport_ID',\n",
    "                       'Destination_State', 'Distance', 'Airline', 'Carrier_Code(IATA)',\n",
    "                       'Carrier_ID(DOT)', 'Tail_Number', 'Delay'])\n",
    "test.reindex(columns=['Month', 'Day_of_Month', 'Estimated_Departure_Hour',\n",
    "                       'Estimated_Departure_Min', 'Estimated_Arrival_Hour',\n",
    "                       'Estimated_Arrival_Min', 'Origin_Airport', 'Origin_Airport_ID',\n",
    "                       'Origin_State', 'Destination_Airport', 'Destination_Airport_ID',\n",
    "                       'Destination_State', 'Distance', 'Airline', 'Carrier_Code(IATA)',\n",
    "                       'Carrier_ID(DOT)', 'Tail_Number', 'Delay'])\n"
   ]
  },
  {
   "cell_type": "code",
   "execution_count": 76,
   "metadata": {},
   "outputs": [
    {
     "data": {
      "text/plain": [
       "<AxesSubplot:>"
      ]
     },
     "execution_count": 76,
     "metadata": {},
     "output_type": "execute_result"
    },
    {
     "data": {
      "image/png": "[encoded data removed]",
      "text/plain": [
       "<Figure size 432x288 with 1 Axes>"
      ]
     },
     "metadata": {
      "needs_background": "light"
     },
     "output_type": "display_data"
    }
   ],
   "source": [
    "train['Estimated_Departure_Hour'].hist(bins=23)"
   ]
  },
  {
   "cell_type": "code",
   "execution_count": 77,
   "metadata": {},
   "outputs": [
    {
     "data": {
      "text/plain": [
       "<AxesSubplot:>"
      ]
     },
     "execution_count": 77,
     "metadata": {},
     "output_type": "execute_result"
    },
    {
     "data": {
      "image/png": "[encoded data removed]",
      "text/plain": [
       "<Figure size 432x288 with 1 Axes>"
      ]
     },
     "metadata": {
      "needs_background": "light"
     },
     "output_type": "display_data"
    }
   ],
   "source": [
    "train['Estimated_Departure_Min'].hist(bins=59)"
   ]
  },
  {
   "cell_type": "code",
   "execution_count": 78,
   "metadata": {},
   "outputs": [
    {
     "data": {
      "text/plain": [
       "<AxesSubplot:>"
      ]
     },
     "execution_count": 78,
     "metadata": {},
     "output_type": "execute_result"
    },
    {
     "data": {
      "image/png": "[encoded data removed]",
      "text/plain": [
       "<Figure size 432x288 with 1 Axes>"
      ]
     },
     "metadata": {
      "needs_background": "light"
     },
     "output_type": "display_data"
    }
   ],
   "source": [
    "train['Estimated_Arrival_Hour'].hist(bins=23)"
   ]
  },
  {
   "cell_type": "code",
   "execution_count": 79,
   "metadata": {},
   "outputs": [
    {
     "data": {
      "text/plain": [
       "<AxesSubplot:>"
      ]
     },
     "execution_count": 79,
     "metadata": {},
     "output_type": "execute_result"
    },
    {
     "data": {
      "image/png": "[encoded data removed]",
      "text/plain": [
       "<Figure size 432x288 with 1 Axes>"
      ]
     },
     "metadata": {
      "needs_background": "light"
     },
     "output_type": "display_data"
    }
   ],
   "source": [
    "train['Estimated_Arrival_Min'].hist(bins=59)"
   ]
  },
  {
   "cell_type": "markdown",
   "metadata": {},
   "source": [
    "- Origin_State, Destination_State를 Origin_Airport와 Destination_Airport를 기반으로 결측치 채워주기"
   ]
  },
  {
   "cell_type": "code",
   "execution_count": null,
   "metadata": {},
   "outputs": [],
   "source": []
  }
 ],
 "metadata": {
  "interpreter": {
   "hash": "1c1f657b55f9e5c8540078b860d4dd0ddd2a500de25085401787f024aa7c4e1a"
  },
  "kernelspec": {
   "display_name": "Python 3.8.5 ('base')",
   "language": "python",
   "name": "python3"
  },
  "language_info": {
   "codemirror_mode": {
    "name": "ipython",
    "version": 3
   },
   "file_extension": ".py",
   "mimetype": "text/x-python",
   "name": "python",
   "nbconvert_exporter": "python",
   "pygments_lexer": "ipython3",
   "version": "3.8.5"
  },
  "orig_nbformat": 4
 },
 "nbformat": 4,
 "nbformat_minor": 2
}
