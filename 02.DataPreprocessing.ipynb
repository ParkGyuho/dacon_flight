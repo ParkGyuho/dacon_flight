{
 "cells": [
  {
   "cell_type": "markdown",
   "metadata": {},
   "source": [
    "### To Do list\n",
    "- 1. 데이터 전처리\n",
    "    - ID, Cancelled, Diverted 제거\n",
    "    - Estimated_Departure_Time, Estimated_Arrival_Time 시와 분으로 나눠 볼 필요는 있을 듯\n",
    "    - Origin_State, Destination_State를 Origin_Airport와 Destination_Airport를 기반으로 결측치 채워주기\n",
    "    - 이후, Origin_Airport, Destination_Airport 제거\n",
    "    - Distance 스케일링\n",
    "    - Airline, Carrier_Code(IATA, DOT) 결측치 채우기\n",
    "- 2. 예측에 도움되는 피쳐 고르기\n",
    "- 3. 준지도학습 라벨링\n",
    "    - Delay있는 데이터 선택 후 검증세트 생성\n",
    "    - 모델 탐색 및 피처 탐색 후 학습\n",
    "    - 검증세트 생성 후 준지도학습 라벨링 성능지표 체크"
   ]
  },
  {
   "cell_type": "code",
   "execution_count": null,
   "metadata": {},
   "outputs": [],
   "source": []
  }
 ],
 "metadata": {
  "interpreter": {
   "hash": "1c1f657b55f9e5c8540078b860d4dd0ddd2a500de25085401787f024aa7c4e1a"
  },
  "kernelspec": {
   "display_name": "Python 3.8.5 ('base')",
   "language": "python",
   "name": "python3"
  },
  "language_info": {
   "name": "python",
   "version": "3.8.5"
  },
  "orig_nbformat": 4
 },
 "nbformat": 4,
 "nbformat_minor": 2
}
