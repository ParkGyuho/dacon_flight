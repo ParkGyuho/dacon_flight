{
 "cells": [
  {
   "cell_type": "markdown",
   "metadata": {},
   "source": [
    "## To Do list\n",
    "- 0. 데이터 parquet 형식으로 변환 및 로드\n",
    "- 1. 데이터 전처리(train,test dataset에서 모두 진행)\n",
    "    - ID, Cancelled, Diverted 제거\n",
    "    - Estimated_Departure_Time, Estimated_Arrival_Time 시와 분으로 나눠 볼 필요는 있을 듯\n",
    "    - Origin_State, Destination_State를 Origin_Airport와 Destination_Airport를 기반으로 결측치 채워주기\n",
    "    - 이후, Origin_Airport, Destination_Airport 제거\n",
    "    - Distance log1p 스케일링\n",
    "    - Airline, Carrier_Code(IATA, DOT) 결측치 채우기\n",
    "- 2. 예측에 도움되는 피쳐 고르기\n",
    "- 3. 준지도학습 라벨링(train dataset에서 준지도학습 성능체크)\n",
    "    - Delay있는 데이터 선택 후 검증세트 생성\n",
    "    - 모델 탐색 및 피처 탐색 후 학습\n",
    "    - 검증세트 생성 후 준지도학습 라벨링 성능지표 체크"
   ]
  },
  {
   "cell_type": "markdown",
   "metadata": {},
   "source": [
    "### Import Module"
   ]
  },
  {
   "cell_type": "code",
   "execution_count": 1,
   "metadata": {},
   "outputs": [],
   "source": [
    "import pandas as pd\n",
    "import numpy as np\n",
    "import matplotlib.pyplot as plt\n",
    "import seaborn as sns\n",
    "import gc"
   ]
  },
  {
   "cell_type": "code",
   "execution_count": 2,
   "metadata": {},
   "outputs": [],
   "source": [
    "import sklearn\n",
    "from sklearn.preprocessing import StandardScaler\n",
    "from sklearn.preprocessing import LabelEncoder\n",
    "from sklearn.ensemble import RandomForestClassifier\n",
    "from sklearn.model_selection import KFold\n",
    "from sklearn.model_selection import cross_val_predict\n",
    "from sklearn.model_selection import cross_val_score"
   ]
  },
  {
   "cell_type": "markdown",
   "metadata": {},
   "source": [
    "### Read and Convert Data"
   ]
  },
  {
   "cell_type": "code",
   "execution_count": 3,
   "metadata": {},
   "outputs": [],
   "source": [
    "def convert_parquet(df):\n",
    "    csv_dir = f'./data/{df}.csv'\n",
    "    read_df = pd.read_csv(csv_dir)\n",
    "    read_df.to_parquet(path=f'./data/{df}.parquet')\n",
    "    del read_df\n",
    "    gc.collect()\n",
    "    print(f'{df} Done')"
   ]
  },
  {
   "cell_type": "code",
   "execution_count": 4,
   "metadata": {},
   "outputs": [],
   "source": [
    "#convert_parquet('train')\n",
    "#convert_parquet('test')"
   ]
  },
  {
   "cell_type": "markdown",
   "metadata": {},
   "source": [
    "### Data Preprocessing"
   ]
  },
  {
   "cell_type": "markdown",
   "metadata": {},
   "source": [
    "ID, Cancelled, Diverted 제거"
   ]
  },
  {
   "cell_type": "code",
   "execution_count": 5,
   "metadata": {},
   "outputs": [],
   "source": [
    "train = pd.read_parquet('./data/train.parquet')\n",
    "test = pd.read_parquet('./data/test.parquet')"
   ]
  },
  {
   "cell_type": "code",
   "execution_count": 6,
   "metadata": {},
   "outputs": [],
   "source": [
    "sample_submission = pd.read_csv('./data/sample_submission.csv', index_col=0)"
   ]
  },
  {
   "cell_type": "code",
   "execution_count": 7,
   "metadata": {},
   "outputs": [],
   "source": [
    "train = train.drop(['ID','Cancelled','Diverted'],axis=1)\n",
    "test = test.drop(['ID','Cancelled','Diverted'],axis=1)"
   ]
  },
  {
   "cell_type": "markdown",
   "metadata": {},
   "source": [
    "- Estimated_Departure_Time, Estimated_Arrival_Time 시와 분 분리"
   ]
  },
  {
   "cell_type": "code",
   "execution_count": 8,
   "metadata": {},
   "outputs": [
    {
     "data": {
      "text/html": [
       "<div>\n",
       "<style scoped>\n",
       "    .dataframe tbody tr th:only-of-type {\n",
       "        vertical-align: middle;\n",
       "    }\n",
       "\n",
       "    .dataframe tbody tr th {\n",
       "        vertical-align: top;\n",
       "    }\n",
       "\n",
       "    .dataframe thead th {\n",
       "        text-align: right;\n",
       "    }\n",
       "</style>\n",
       "<table border=\"1\" class=\"dataframe\">\n",
       "  <thead>\n",
       "    <tr style=\"text-align: right;\">\n",
       "      <th></th>\n",
       "      <th>Month</th>\n",
       "      <th>Day_of_Month</th>\n",
       "      <th>Estimated_Departure_Time</th>\n",
       "      <th>Estimated_Arrival_Time</th>\n",
       "      <th>Origin_Airport</th>\n",
       "      <th>Origin_Airport_ID</th>\n",
       "      <th>Origin_State</th>\n",
       "      <th>Destination_Airport</th>\n",
       "      <th>Destination_Airport_ID</th>\n",
       "      <th>Destination_State</th>\n",
       "      <th>Distance</th>\n",
       "      <th>Airline</th>\n",
       "      <th>Carrier_Code(IATA)</th>\n",
       "      <th>Carrier_ID(DOT)</th>\n",
       "      <th>Tail_Number</th>\n",
       "      <th>Delay</th>\n",
       "    </tr>\n",
       "  </thead>\n",
       "  <tbody>\n",
       "    <tr>\n",
       "      <th>0</th>\n",
       "      <td>4</td>\n",
       "      <td>15</td>\n",
       "      <td>NaN</td>\n",
       "      <td>NaN</td>\n",
       "      <td>OKC</td>\n",
       "      <td>13851</td>\n",
       "      <td>Oklahoma</td>\n",
       "      <td>HOU</td>\n",
       "      <td>12191</td>\n",
       "      <td>Texas</td>\n",
       "      <td>419.0</td>\n",
       "      <td>Southwest Airlines Co.</td>\n",
       "      <td>WN</td>\n",
       "      <td>19393.0</td>\n",
       "      <td>N7858A</td>\n",
       "      <td>None</td>\n",
       "    </tr>\n",
       "    <tr>\n",
       "      <th>1</th>\n",
       "      <td>8</td>\n",
       "      <td>15</td>\n",
       "      <td>740.0</td>\n",
       "      <td>1024.0</td>\n",
       "      <td>ORD</td>\n",
       "      <td>13930</td>\n",
       "      <td>Illinois</td>\n",
       "      <td>SLC</td>\n",
       "      <td>14869</td>\n",
       "      <td>Utah</td>\n",
       "      <td>1250.0</td>\n",
       "      <td>SkyWest Airlines Inc.</td>\n",
       "      <td>UA</td>\n",
       "      <td>20304.0</td>\n",
       "      <td>N125SY</td>\n",
       "      <td>None</td>\n",
       "    </tr>\n",
       "    <tr>\n",
       "      <th>2</th>\n",
       "      <td>9</td>\n",
       "      <td>6</td>\n",
       "      <td>1610.0</td>\n",
       "      <td>1805.0</td>\n",
       "      <td>CLT</td>\n",
       "      <td>11057</td>\n",
       "      <td>North Carolina</td>\n",
       "      <td>LGA</td>\n",
       "      <td>12953</td>\n",
       "      <td>New York</td>\n",
       "      <td>544.0</td>\n",
       "      <td>American Airlines Inc.</td>\n",
       "      <td>AA</td>\n",
       "      <td>19805.0</td>\n",
       "      <td>N103US</td>\n",
       "      <td>None</td>\n",
       "    </tr>\n",
       "    <tr>\n",
       "      <th>3</th>\n",
       "      <td>7</td>\n",
       "      <td>10</td>\n",
       "      <td>905.0</td>\n",
       "      <td>1735.0</td>\n",
       "      <td>LAX</td>\n",
       "      <td>12892</td>\n",
       "      <td>California</td>\n",
       "      <td>EWR</td>\n",
       "      <td>11618</td>\n",
       "      <td>New Jersey</td>\n",
       "      <td>2454.0</td>\n",
       "      <td>United Air Lines Inc.</td>\n",
       "      <td>UA</td>\n",
       "      <td>NaN</td>\n",
       "      <td>N595UA</td>\n",
       "      <td>None</td>\n",
       "    </tr>\n",
       "    <tr>\n",
       "      <th>4</th>\n",
       "      <td>1</td>\n",
       "      <td>11</td>\n",
       "      <td>900.0</td>\n",
       "      <td>1019.0</td>\n",
       "      <td>SFO</td>\n",
       "      <td>14771</td>\n",
       "      <td>California</td>\n",
       "      <td>ACV</td>\n",
       "      <td>10157</td>\n",
       "      <td>California</td>\n",
       "      <td>250.0</td>\n",
       "      <td>SkyWest Airlines Inc.</td>\n",
       "      <td>UA</td>\n",
       "      <td>20304.0</td>\n",
       "      <td>N161SY</td>\n",
       "      <td>None</td>\n",
       "    </tr>\n",
       "  </tbody>\n",
       "</table>\n",
       "</div>"
      ],
      "text/plain": [
       "   Month  Day_of_Month  Estimated_Departure_Time  Estimated_Arrival_Time  \\\n",
       "0      4            15                       NaN                     NaN   \n",
       "1      8            15                     740.0                  1024.0   \n",
       "2      9             6                    1610.0                  1805.0   \n",
       "3      7            10                     905.0                  1735.0   \n",
       "4      1            11                     900.0                  1019.0   \n",
       "\n",
       "  Origin_Airport  Origin_Airport_ID    Origin_State Destination_Airport  \\\n",
       "0            OKC              13851        Oklahoma                 HOU   \n",
       "1            ORD              13930        Illinois                 SLC   \n",
       "2            CLT              11057  North Carolina                 LGA   \n",
       "3            LAX              12892      California                 EWR   \n",
       "4            SFO              14771      California                 ACV   \n",
       "\n",
       "   Destination_Airport_ID Destination_State  Distance                 Airline  \\\n",
       "0                   12191             Texas     419.0  Southwest Airlines Co.   \n",
       "1                   14869              Utah    1250.0   SkyWest Airlines Inc.   \n",
       "2                   12953          New York     544.0  American Airlines Inc.   \n",
       "3                   11618        New Jersey    2454.0   United Air Lines Inc.   \n",
       "4                   10157        California     250.0   SkyWest Airlines Inc.   \n",
       "\n",
       "  Carrier_Code(IATA)  Carrier_ID(DOT) Tail_Number Delay  \n",
       "0                 WN          19393.0      N7858A  None  \n",
       "1                 UA          20304.0      N125SY  None  \n",
       "2                 AA          19805.0      N103US  None  \n",
       "3                 UA              NaN      N595UA  None  \n",
       "4                 UA          20304.0      N161SY  None  "
      ]
     },
     "execution_count": 8,
     "metadata": {},
     "output_type": "execute_result"
    }
   ],
   "source": [
    "train.head()"
   ]
  },
  {
   "cell_type": "code",
   "execution_count": 9,
   "metadata": {},
   "outputs": [],
   "source": [
    "estimated_time = ['Estimated_Departure_Time', 'Estimated_Arrival_Time']"
   ]
  },
  {
   "cell_type": "code",
   "execution_count": 10,
   "metadata": {},
   "outputs": [],
   "source": [
    "#estimated_time 컬럼 최다빈도 값으로 결측치 채우기\n",
    "for i in estimated_time:\n",
    "    most_freq = train[i].mode()[0]\n",
    "    train[i] = train[i].fillna(most_freq)\n",
    "    test[i] = test[i].fillna(most_freq)"
   ]
  },
  {
   "cell_type": "code",
   "execution_count": 11,
   "metadata": {},
   "outputs": [
    {
     "data": {
      "text/plain": [
       "0         06\n",
       "1         07\n",
       "2         16\n",
       "3         09\n",
       "4         09\n",
       "          ..\n",
       "999995    09\n",
       "999996    09\n",
       "999997    08\n",
       "999998    16\n",
       "999999    18\n",
       "Name: Estimated_Departure_Time, Length: 1000000, dtype: object"
      ]
     },
     "execution_count": 11,
     "metadata": {},
     "output_type": "execute_result"
    }
   ],
   "source": [
    "train['Estimated_Departure_Time'].astype(int).astype(str).str.zfill(4).str.slice(0,2)"
   ]
  },
  {
   "cell_type": "code",
   "execution_count": 12,
   "metadata": {},
   "outputs": [],
   "source": [
    "for df in [train,test]:\n",
    "    df['Estimated_Departure_Hour'] = df['Estimated_Departure_Time'].astype(int).astype(str).str.zfill(4).str.slice(0,2).astype(int)\n",
    "    df['Estimated_Departure_Min'] = df['Estimated_Departure_Time'].astype(int).astype(str).str.zfill(4).str.slice(2,4).astype(int)\n",
    "\n",
    "    df['Estimated_Arrival_Hour'] = df['Estimated_Arrival_Time'].astype(int).astype(str).str.zfill(4).str.slice(0,2).astype(int)\n",
    "    df['Estimated_Arrival_Min'] = df['Estimated_Arrival_Time'].astype(int).astype(str).str.zfill(4).str.slice(2,4).astype(int)"
   ]
  },
  {
   "cell_type": "code",
   "execution_count": 13,
   "metadata": {},
   "outputs": [],
   "source": [
    "train = train.drop(['Estimated_Departure_Time','Estimated_Arrival_Time'],axis=1)\n",
    "test = test.drop(['Estimated_Departure_Time','Estimated_Arrival_Time'],axis=1)"
   ]
  },
  {
   "cell_type": "code",
   "execution_count": 14,
   "metadata": {},
   "outputs": [
    {
     "data": {
      "text/plain": [
       "Index(['Month', 'Day_of_Month', 'Origin_Airport', 'Origin_Airport_ID',\n",
       "       'Origin_State', 'Destination_Airport', 'Destination_Airport_ID',\n",
       "       'Destination_State', 'Distance', 'Airline', 'Carrier_Code(IATA)',\n",
       "       'Carrier_ID(DOT)', 'Tail_Number', 'Delay', 'Estimated_Departure_Hour',\n",
       "       'Estimated_Departure_Min', 'Estimated_Arrival_Hour',\n",
       "       'Estimated_Arrival_Min'],\n",
       "      dtype='object')"
      ]
     },
     "execution_count": 14,
     "metadata": {},
     "output_type": "execute_result"
    }
   ],
   "source": [
    "train.columns"
   ]
  },
  {
   "cell_type": "code",
   "execution_count": 15,
   "metadata": {},
   "outputs": [],
   "source": [
    "train = train.reindex(columns=['Month', 'Day_of_Month', 'Estimated_Departure_Hour',\n",
    "                       'Estimated_Departure_Min', 'Estimated_Arrival_Hour',\n",
    "                       'Estimated_Arrival_Min', 'Origin_Airport', 'Origin_Airport_ID',\n",
    "                       'Origin_State', 'Destination_Airport', 'Destination_Airport_ID',\n",
    "                       'Destination_State', 'Distance', 'Airline', 'Carrier_Code(IATA)',\n",
    "                       'Carrier_ID(DOT)', 'Tail_Number', 'Delay'])\n",
    "test = test.reindex(columns=['Month', 'Day_of_Month', 'Estimated_Departure_Hour',\n",
    "                       'Estimated_Departure_Min', 'Estimated_Arrival_Hour',\n",
    "                       'Estimated_Arrival_Min', 'Origin_Airport', 'Origin_Airport_ID',\n",
    "                       'Origin_State', 'Destination_Airport', 'Destination_Airport_ID',\n",
    "                       'Destination_State', 'Distance', 'Airline', 'Carrier_Code(IATA)',\n",
    "                       'Carrier_ID(DOT)', 'Tail_Number', 'Delay'])\n"
   ]
  },
  {
   "cell_type": "code",
   "execution_count": 16,
   "metadata": {},
   "outputs": [
    {
     "data": {
      "text/plain": [
       "<AxesSubplot:>"
      ]
     },
     "execution_count": 16,
     "metadata": {},
     "output_type": "execute_result"
    },
    {
     "data": {
      "image/png": "[encoded data removed]",
      "text/plain": [
       "<Figure size 432x288 with 1 Axes>"
      ]
     },
     "metadata": {
      "needs_background": "light"
     },
     "output_type": "display_data"
    }
   ],
   "source": [
    "train['Estimated_Departure_Hour'].hist(bins=23)"
   ]
  },
  {
   "cell_type": "code",
   "execution_count": 17,
   "metadata": {},
   "outputs": [
    {
     "data": {
      "text/plain": [
       "<AxesSubplot:>"
      ]
     },
     "execution_count": 17,
     "metadata": {},
     "output_type": "execute_result"
    },
    {
     "data": {
      "image/png": "[encoded data removed]",
      "text/plain": [
       "<Figure size 432x288 with 1 Axes>"
      ]
     },
     "metadata": {
      "needs_background": "light"
     },
     "output_type": "display_data"
    }
   ],
   "source": [
    "train['Estimated_Departure_Min'].hist(bins=59)"
   ]
  },
  {
   "cell_type": "code",
   "execution_count": 18,
   "metadata": {},
   "outputs": [
    {
     "data": {
      "text/plain": [
       "<AxesSubplot:>"
      ]
     },
     "execution_count": 18,
     "metadata": {},
     "output_type": "execute_result"
    },
    {
     "data": {
      "image/png": "[encoded data removed]",
      "text/plain": [
       "<Figure size 432x288 with 1 Axes>"
      ]
     },
     "metadata": {
      "needs_background": "light"
     },
     "output_type": "display_data"
    }
   ],
   "source": [
    "train['Estimated_Arrival_Hour'].hist(bins=23)"
   ]
  },
  {
   "cell_type": "code",
   "execution_count": 19,
   "metadata": {},
   "outputs": [
    {
     "data": {
      "text/plain": [
       "<AxesSubplot:>"
      ]
     },
     "execution_count": 19,
     "metadata": {},
     "output_type": "execute_result"
    },
    {
     "data": {
      "image/png": "[encoded data removed]",
      "text/plain": [
       "<Figure size 432x288 with 1 Axes>"
      ]
     },
     "metadata": {
      "needs_background": "light"
     },
     "output_type": "display_data"
    }
   ],
   "source": [
    "train['Estimated_Arrival_Min'].hist(bins=59)"
   ]
  },
  {
   "cell_type": "markdown",
   "metadata": {},
   "source": [
    "- Origin_State, Destination_State를 Origin_Airport와 Destination_Airport를 기반으로 결측치 채워주기"
   ]
  },
  {
   "cell_type": "markdown",
   "metadata": {},
   "source": [
    "train Origin State"
   ]
  },
  {
   "cell_type": "code",
   "execution_count": 20,
   "metadata": {},
   "outputs": [
    {
     "data": {
      "text/html": [
       "<div>\n",
       "<style scoped>\n",
       "    .dataframe tbody tr th:only-of-type {\n",
       "        vertical-align: middle;\n",
       "    }\n",
       "\n",
       "    .dataframe tbody tr th {\n",
       "        vertical-align: top;\n",
       "    }\n",
       "\n",
       "    .dataframe thead th {\n",
       "        text-align: right;\n",
       "    }\n",
       "</style>\n",
       "<table border=\"1\" class=\"dataframe\">\n",
       "  <thead>\n",
       "    <tr style=\"text-align: right;\">\n",
       "      <th></th>\n",
       "      <th>Month</th>\n",
       "      <th>Day_of_Month</th>\n",
       "      <th>Estimated_Departure_Hour</th>\n",
       "      <th>Estimated_Departure_Min</th>\n",
       "      <th>Estimated_Arrival_Hour</th>\n",
       "      <th>Estimated_Arrival_Min</th>\n",
       "      <th>Origin_Airport</th>\n",
       "      <th>Origin_Airport_ID</th>\n",
       "      <th>Origin_State</th>\n",
       "      <th>Destination_Airport</th>\n",
       "      <th>Destination_Airport_ID</th>\n",
       "      <th>Destination_State</th>\n",
       "      <th>Distance</th>\n",
       "      <th>Airline</th>\n",
       "      <th>Carrier_Code(IATA)</th>\n",
       "      <th>Carrier_ID(DOT)</th>\n",
       "      <th>Tail_Number</th>\n",
       "      <th>Delay</th>\n",
       "    </tr>\n",
       "  </thead>\n",
       "  <tbody>\n",
       "    <tr>\n",
       "      <th>0</th>\n",
       "      <td>4</td>\n",
       "      <td>15</td>\n",
       "      <td>6</td>\n",
       "      <td>0</td>\n",
       "      <td>19</td>\n",
       "      <td>0</td>\n",
       "      <td>OKC</td>\n",
       "      <td>13851</td>\n",
       "      <td>Oklahoma</td>\n",
       "      <td>HOU</td>\n",
       "      <td>12191</td>\n",
       "      <td>Texas</td>\n",
       "      <td>419.0</td>\n",
       "      <td>Southwest Airlines Co.</td>\n",
       "      <td>WN</td>\n",
       "      <td>19393.0</td>\n",
       "      <td>N7858A</td>\n",
       "      <td>None</td>\n",
       "    </tr>\n",
       "    <tr>\n",
       "      <th>1</th>\n",
       "      <td>8</td>\n",
       "      <td>15</td>\n",
       "      <td>7</td>\n",
       "      <td>40</td>\n",
       "      <td>10</td>\n",
       "      <td>24</td>\n",
       "      <td>ORD</td>\n",
       "      <td>13930</td>\n",
       "      <td>Illinois</td>\n",
       "      <td>SLC</td>\n",
       "      <td>14869</td>\n",
       "      <td>Utah</td>\n",
       "      <td>1250.0</td>\n",
       "      <td>SkyWest Airlines Inc.</td>\n",
       "      <td>UA</td>\n",
       "      <td>20304.0</td>\n",
       "      <td>N125SY</td>\n",
       "      <td>None</td>\n",
       "    </tr>\n",
       "    <tr>\n",
       "      <th>2</th>\n",
       "      <td>9</td>\n",
       "      <td>6</td>\n",
       "      <td>16</td>\n",
       "      <td>10</td>\n",
       "      <td>18</td>\n",
       "      <td>5</td>\n",
       "      <td>CLT</td>\n",
       "      <td>11057</td>\n",
       "      <td>North Carolina</td>\n",
       "      <td>LGA</td>\n",
       "      <td>12953</td>\n",
       "      <td>New York</td>\n",
       "      <td>544.0</td>\n",
       "      <td>American Airlines Inc.</td>\n",
       "      <td>AA</td>\n",
       "      <td>19805.0</td>\n",
       "      <td>N103US</td>\n",
       "      <td>None</td>\n",
       "    </tr>\n",
       "    <tr>\n",
       "      <th>3</th>\n",
       "      <td>7</td>\n",
       "      <td>10</td>\n",
       "      <td>9</td>\n",
       "      <td>5</td>\n",
       "      <td>17</td>\n",
       "      <td>35</td>\n",
       "      <td>LAX</td>\n",
       "      <td>12892</td>\n",
       "      <td>California</td>\n",
       "      <td>EWR</td>\n",
       "      <td>11618</td>\n",
       "      <td>New Jersey</td>\n",
       "      <td>2454.0</td>\n",
       "      <td>United Air Lines Inc.</td>\n",
       "      <td>UA</td>\n",
       "      <td>NaN</td>\n",
       "      <td>N595UA</td>\n",
       "      <td>None</td>\n",
       "    </tr>\n",
       "    <tr>\n",
       "      <th>4</th>\n",
       "      <td>1</td>\n",
       "      <td>11</td>\n",
       "      <td>9</td>\n",
       "      <td>0</td>\n",
       "      <td>10</td>\n",
       "      <td>19</td>\n",
       "      <td>SFO</td>\n",
       "      <td>14771</td>\n",
       "      <td>California</td>\n",
       "      <td>ACV</td>\n",
       "      <td>10157</td>\n",
       "      <td>California</td>\n",
       "      <td>250.0</td>\n",
       "      <td>SkyWest Airlines Inc.</td>\n",
       "      <td>UA</td>\n",
       "      <td>20304.0</td>\n",
       "      <td>N161SY</td>\n",
       "      <td>None</td>\n",
       "    </tr>\n",
       "  </tbody>\n",
       "</table>\n",
       "</div>"
      ],
      "text/plain": [
       "   Month  Day_of_Month  Estimated_Departure_Hour  Estimated_Departure_Min  \\\n",
       "0      4            15                         6                        0   \n",
       "1      8            15                         7                       40   \n",
       "2      9             6                        16                       10   \n",
       "3      7            10                         9                        5   \n",
       "4      1            11                         9                        0   \n",
       "\n",
       "   Estimated_Arrival_Hour  Estimated_Arrival_Min Origin_Airport  \\\n",
       "0                      19                      0            OKC   \n",
       "1                      10                     24            ORD   \n",
       "2                      18                      5            CLT   \n",
       "3                      17                     35            LAX   \n",
       "4                      10                     19            SFO   \n",
       "\n",
       "   Origin_Airport_ID    Origin_State Destination_Airport  \\\n",
       "0              13851        Oklahoma                 HOU   \n",
       "1              13930        Illinois                 SLC   \n",
       "2              11057  North Carolina                 LGA   \n",
       "3              12892      California                 EWR   \n",
       "4              14771      California                 ACV   \n",
       "\n",
       "   Destination_Airport_ID Destination_State  Distance                 Airline  \\\n",
       "0                   12191             Texas     419.0  Southwest Airlines Co.   \n",
       "1                   14869              Utah    1250.0   SkyWest Airlines Inc.   \n",
       "2                   12953          New York     544.0  American Airlines Inc.   \n",
       "3                   11618        New Jersey    2454.0   United Air Lines Inc.   \n",
       "4                   10157        California     250.0   SkyWest Airlines Inc.   \n",
       "\n",
       "  Carrier_Code(IATA)  Carrier_ID(DOT) Tail_Number Delay  \n",
       "0                 WN          19393.0      N7858A  None  \n",
       "1                 UA          20304.0      N125SY  None  \n",
       "2                 AA          19805.0      N103US  None  \n",
       "3                 UA              NaN      N595UA  None  \n",
       "4                 UA          20304.0      N161SY  None  "
      ]
     },
     "execution_count": 20,
     "metadata": {},
     "output_type": "execute_result"
    }
   ],
   "source": [
    "train.head()"
   ]
  },
  {
   "cell_type": "code",
   "execution_count": 21,
   "metadata": {},
   "outputs": [
    {
     "data": {
      "text/plain": [
       "ORD    50436\n",
       "ATL    44140\n",
       "DEN    40300\n",
       "LAX    31825\n",
       "DFW    30879\n",
       "       ...  \n",
       "ADK       14\n",
       "GST       13\n",
       "DLG        9\n",
       "AKN        8\n",
       "BFM        6\n",
       "Name: Origin_Airport, Length: 374, dtype: int64"
      ]
     },
     "execution_count": 21,
     "metadata": {},
     "output_type": "execute_result"
    }
   ],
   "source": [
    "train['Origin_Airport'].value_counts()"
   ]
  },
  {
   "cell_type": "code",
   "execution_count": 22,
   "metadata": {},
   "outputs": [],
   "source": [
    "ord_os = train.loc[train['Origin_Airport'] == 'ORD', 'Origin_State']\n",
    "\n",
    "train.loc[train['Origin_Airport'] == 'ORD', 'Origin_State'] = ord_os.fillna(\n",
    "    ord_os.mode()[0])"
   ]
  },
  {
   "cell_type": "code",
   "execution_count": 23,
   "metadata": {},
   "outputs": [
    {
     "data": {
      "text/plain": [
       "1         Illinois\n",
       "7         Illinois\n",
       "32        Illinois\n",
       "42        Illinois\n",
       "73        Illinois\n",
       "            ...   \n",
       "999919    Illinois\n",
       "999927    Illinois\n",
       "999982    Illinois\n",
       "999990    Illinois\n",
       "999995    Illinois\n",
       "Name: Origin_State, Length: 50436, dtype: object"
      ]
     },
     "execution_count": 23,
     "metadata": {},
     "output_type": "execute_result"
    }
   ],
   "source": [
    "train.loc[train['Origin_Airport'] == 'ORD', 'Origin_State']"
   ]
  },
  {
   "cell_type": "code",
   "execution_count": 24,
   "metadata": {},
   "outputs": [
    {
     "data": {
      "text/plain": [
       "\"\\nfor airport_code in train['Origin_Airport'].unique():\\n    os_by_oa = train.loc[train['Origin_Airport'] == airport_code, 'Origin_State']\\n    if os_by_oa.isna().sum():\\n        train.loc[train['Origin_Airport'] == airport_code,\\n                  'Origin_State'] = os_by_oa.fillna(os_by_oa.mode()[0])\\n\""
      ]
     },
     "execution_count": 24,
     "metadata": {},
     "output_type": "execute_result"
    }
   ],
   "source": [
    "'''\n",
    "for airport_code in train['Origin_Airport'].unique():\n",
    "    os_by_oa = train.loc[train['Origin_Airport'] == airport_code, 'Origin_State']\n",
    "    if os_by_oa.isna().sum():\n",
    "        train.loc[train['Origin_Airport'] == airport_code,\n",
    "                  'Origin_State'] = os_by_oa.fillna(os_by_oa.mode()[0])\n",
    "'''"
   ]
  },
  {
   "cell_type": "code",
   "execution_count": 25,
   "metadata": {},
   "outputs": [],
   "source": [
    "def fill_state_by_airport(df, origin_or_destination):\n",
    "    for airport_code in df[f'{origin_or_destination}_Airport'].unique():\n",
    "        os_by_oa = df.loc[df[f'{origin_or_destination}_Airport'] == airport_code, f'{origin_or_destination}_State']\n",
    "        if os_by_oa.isna().sum():\n",
    "            df.loc[df[f'{origin_or_destination}_Airport'] == airport_code,\n",
    "                    f'{origin_or_destination}_State'] = os_by_oa.fillna(os_by_oa.mode()[0])"
   ]
  },
  {
   "cell_type": "code",
   "execution_count": 26,
   "metadata": {},
   "outputs": [],
   "source": [
    "fill_state_by_airport(train, 'Origin')"
   ]
  },
  {
   "cell_type": "code",
   "execution_count": 27,
   "metadata": {},
   "outputs": [
    {
     "data": {
      "text/plain": [
       "0"
      ]
     },
     "execution_count": 27,
     "metadata": {},
     "output_type": "execute_result"
    }
   ],
   "source": [
    "train['Origin_State'].isna().sum()"
   ]
  },
  {
   "cell_type": "markdown",
   "metadata": {},
   "source": [
    "train Destination State"
   ]
  },
  {
   "cell_type": "code",
   "execution_count": 28,
   "metadata": {},
   "outputs": [
    {
     "data": {
      "text/plain": [
       "109079"
      ]
     },
     "execution_count": 28,
     "metadata": {},
     "output_type": "execute_result"
    }
   ],
   "source": [
    "train['Destination_State'].isna().sum()"
   ]
  },
  {
   "cell_type": "code",
   "execution_count": 29,
   "metadata": {},
   "outputs": [
    {
     "data": {
      "text/plain": [
       "ORD    50171\n",
       "ATL    43626\n",
       "DEN    39693\n",
       "LAX    31936\n",
       "DFW    30183\n",
       "       ...  \n",
       "BFM       11\n",
       "DLG        8\n",
       "GST        6\n",
       "AKN        3\n",
       "YNG        1\n",
       "Name: Destination_Airport, Length: 375, dtype: int64"
      ]
     },
     "execution_count": 29,
     "metadata": {},
     "output_type": "execute_result"
    }
   ],
   "source": [
    "train['Destination_Airport'].value_counts()"
   ]
  },
  {
   "cell_type": "code",
   "execution_count": 30,
   "metadata": {},
   "outputs": [],
   "source": [
    "train.loc[train['Destination_Airport'] == 'YNG', 'Destination_State'] = 'Ohio'"
   ]
  },
  {
   "cell_type": "code",
   "execution_count": 31,
   "metadata": {},
   "outputs": [
    {
     "data": {
      "text/plain": [
       "\"\\nfor airport_code in train['Destination_Airport'].unique():\\n    os_by_oa = train.loc[train['Destination_Airport']\\n                         == airport_code, 'Destination_State']\\n    if os_by_oa.isna().sum():\\n        train.loc[train['Destination_Airport'] == airport_code,'Destination_State'] = os_by_oa.fillna(os_by_oa.mode()[0])\\n\""
      ]
     },
     "execution_count": 31,
     "metadata": {},
     "output_type": "execute_result"
    }
   ],
   "source": [
    "'''\n",
    "for airport_code in train['Destination_Airport'].unique():\n",
    "    os_by_oa = train.loc[train['Destination_Airport']\n",
    "                         == airport_code, 'Destination_State']\n",
    "    if os_by_oa.isna().sum():\n",
    "        train.loc[train['Destination_Airport'] == airport_code,'Destination_State'] = os_by_oa.fillna(os_by_oa.mode()[0])\n",
    "'''"
   ]
  },
  {
   "cell_type": "code",
   "execution_count": 32,
   "metadata": {},
   "outputs": [],
   "source": [
    "fill_state_by_airport(train, 'Destination')"
   ]
  },
  {
   "cell_type": "code",
   "execution_count": 33,
   "metadata": {},
   "outputs": [
    {
     "data": {
      "text/plain": [
       "0"
      ]
     },
     "execution_count": 33,
     "metadata": {},
     "output_type": "execute_result"
    }
   ],
   "source": [
    "train['Destination_State'].isna().sum()"
   ]
  },
  {
   "cell_type": "markdown",
   "metadata": {},
   "source": [
    "test Origin State"
   ]
  },
  {
   "cell_type": "code",
   "execution_count": 34,
   "metadata": {},
   "outputs": [
    {
     "data": {
      "text/plain": [
       "ORD    53133\n",
       "ATL    43018\n",
       "DEN    41126\n",
       "DFW    33541\n",
       "LAX    31027\n",
       "       ...  \n",
       "DDC        5\n",
       "AKN        5\n",
       "GST        3\n",
       "DEC        2\n",
       "YNG        1\n",
       "Name: Origin_Airport, Length: 379, dtype: int64"
      ]
     },
     "execution_count": 34,
     "metadata": {},
     "output_type": "execute_result"
    }
   ],
   "source": [
    "test['Origin_Airport'].value_counts()"
   ]
  },
  {
   "cell_type": "code",
   "execution_count": 35,
   "metadata": {},
   "outputs": [
    {
     "data": {
      "text/plain": [
       "565176    None\n",
       "607833    None\n",
       "Name: Origin_State, dtype: object"
      ]
     },
     "execution_count": 35,
     "metadata": {},
     "output_type": "execute_result"
    }
   ],
   "source": [
    "test.loc[test['Origin_Airport'] == 'DEC', 'Origin_State']"
   ]
  },
  {
   "cell_type": "code",
   "execution_count": 36,
   "metadata": {},
   "outputs": [
    {
     "data": {
      "text/plain": [
       "81362     None\n",
       "272572    None\n",
       "589822    None\n",
       "606194    None\n",
       "849273    None\n",
       "Name: Origin_State, dtype: object"
      ]
     },
     "execution_count": 36,
     "metadata": {},
     "output_type": "execute_result"
    }
   ],
   "source": [
    "test.loc[test['Origin_Airport'] == 'DDC', 'Origin_State']"
   ]
  },
  {
   "cell_type": "code",
   "execution_count": 37,
   "metadata": {},
   "outputs": [],
   "source": [
    "no_info = []\n",
    "for airport_code in test['Origin_Airport'].unique():\n",
    "    test_os = test.loc[test['Origin_Airport']\n",
    "                       == airport_code, 'Origin_State']\n",
    "    if (test_os.isna().sum()) == len(test_os):\n",
    "        no_info.append(airport_code)"
   ]
  },
  {
   "cell_type": "code",
   "execution_count": 38,
   "metadata": {},
   "outputs": [
    {
     "data": {
      "text/plain": [
       "['RIW', 'SHR', 'DDC', 'DEC']"
      ]
     },
     "execution_count": 38,
     "metadata": {},
     "output_type": "execute_result"
    }
   ],
   "source": [
    "no_info"
   ]
  },
  {
   "cell_type": "code",
   "execution_count": 39,
   "metadata": {},
   "outputs": [],
   "source": [
    "for no_info_oa in no_info:\n",
    "    test.loc[test['Origin_Airport'] == no_info_oa,\n",
    "             'Origin_State'] = test['Origin_State'].mode()[0]"
   ]
  },
  {
   "cell_type": "code",
   "execution_count": 40,
   "metadata": {},
   "outputs": [
    {
     "data": {
      "text/plain": [
       "\"\\nfor airport_code in test['Origin_Airport'].unique():\\n    os_by_oa = test.loc[test['Origin_Airport'] == airport_code, 'Origin_State']\\n    if os_by_oa.isna().sum():\\n        test.loc[test['Origin_Airport'] == airport_code,\\n                  'Origin_State'] = os_by_oa.fillna(os_by_oa.mode()[0])\\n\""
      ]
     },
     "execution_count": 40,
     "metadata": {},
     "output_type": "execute_result"
    }
   ],
   "source": [
    "'''\n",
    "for airport_code in test['Origin_Airport'].unique():\n",
    "    os_by_oa = test.loc[test['Origin_Airport'] == airport_code, 'Origin_State']\n",
    "    if os_by_oa.isna().sum():\n",
    "        test.loc[test['Origin_Airport'] == airport_code,\n",
    "                  'Origin_State'] = os_by_oa.fillna(os_by_oa.mode()[0])\n",
    "'''"
   ]
  },
  {
   "cell_type": "code",
   "execution_count": 41,
   "metadata": {},
   "outputs": [],
   "source": [
    "fill_state_by_airport(test, 'Origin')"
   ]
  },
  {
   "cell_type": "code",
   "execution_count": 42,
   "metadata": {},
   "outputs": [
    {
     "data": {
      "text/plain": [
       "0"
      ]
     },
     "execution_count": 42,
     "metadata": {},
     "output_type": "execute_result"
    }
   ],
   "source": [
    "test['Origin_State'].isna().sum()"
   ]
  },
  {
   "cell_type": "markdown",
   "metadata": {},
   "source": [
    "test Destination State"
   ]
  },
  {
   "cell_type": "code",
   "execution_count": 43,
   "metadata": {},
   "outputs": [],
   "source": [
    "no_info = []\n",
    "for airport_code in test['Destination_Airport'].unique():\n",
    "    test_ds = test.loc[test['Destination_Airport'] == airport_code, 'Destination_State']\n",
    "    if (test_ds.isna().sum()) == len(test_ds):\n",
    "        no_info.append(airport_code)"
   ]
  },
  {
   "cell_type": "code",
   "execution_count": 44,
   "metadata": {},
   "outputs": [
    {
     "data": {
      "text/plain": [
       "['RIW', 'SHR', 'DEC']"
      ]
     },
     "execution_count": 44,
     "metadata": {},
     "output_type": "execute_result"
    }
   ],
   "source": [
    "no_info"
   ]
  },
  {
   "cell_type": "code",
   "execution_count": 45,
   "metadata": {},
   "outputs": [],
   "source": [
    "for no_info_oa in no_info:\n",
    "    test.loc[test['Destination_Airport'] == no_info_oa,\n",
    "             'Destination_State'] = test['Destination_State'].mode()[0]"
   ]
  },
  {
   "cell_type": "code",
   "execution_count": 46,
   "metadata": {},
   "outputs": [],
   "source": [
    "fill_state_by_airport(test, 'Destination')"
   ]
  },
  {
   "cell_type": "code",
   "execution_count": 47,
   "metadata": {},
   "outputs": [
    {
     "data": {
      "text/plain": [
       "0"
      ]
     },
     "execution_count": 47,
     "metadata": {},
     "output_type": "execute_result"
    }
   ],
   "source": [
    "test['Destination_State'].isna().sum()"
   ]
  },
  {
   "cell_type": "code",
   "execution_count": 48,
   "metadata": {},
   "outputs": [
    {
     "data": {
      "text/plain": [
       "ORD    50436\n",
       "ATL    44140\n",
       "DEN    40300\n",
       "LAX    31825\n",
       "DFW    30879\n",
       "       ...  \n",
       "ADK       14\n",
       "GST       13\n",
       "DLG        9\n",
       "AKN        8\n",
       "BFM        6\n",
       "Name: Origin_Airport, Length: 374, dtype: int64"
      ]
     },
     "execution_count": 48,
     "metadata": {},
     "output_type": "execute_result"
    }
   ],
   "source": [
    "train['Origin_Airport'].value_counts()"
   ]
  },
  {
   "cell_type": "markdown",
   "metadata": {},
   "source": [
    "- Origin_Airport_ID, Destination_Airport_ID 제거</br>\n",
    "(Origin_Airport, Destination_Airport로 LabelEncoding 예정)"
   ]
  },
  {
   "cell_type": "code",
   "execution_count": 49,
   "metadata": {},
   "outputs": [],
   "source": [
    "train = train.drop(['Origin_Airport_ID','Destination_Airport_ID'],axis=1)\n",
    "test = test.drop(['Origin_Airport_ID','Destination_Airport_ID'],axis=1)"
   ]
  },
  {
   "cell_type": "code",
   "execution_count": 50,
   "metadata": {},
   "outputs": [
    {
     "data": {
      "text/plain": [
       "(1000000, 16)"
      ]
     },
     "metadata": {},
     "output_type": "display_data"
    },
    {
     "data": {
      "text/plain": [
       "(1000000, 16)"
      ]
     },
     "metadata": {},
     "output_type": "display_data"
    }
   ],
   "source": [
    "display(train.shape, test.shape)"
   ]
  },
  {
   "cell_type": "markdown",
   "metadata": {},
   "source": [
    "- Distance Scaling"
   ]
  },
  {
   "cell_type": "code",
   "execution_count": 51,
   "metadata": {},
   "outputs": [
    {
     "data": {
      "text/plain": [
       "<AxesSubplot:>"
      ]
     },
     "execution_count": 51,
     "metadata": {},
     "output_type": "execute_result"
    },
    {
     "data": {
      "image/png": "[encoded data removed]",
      "text/plain": [
       "<Figure size 432x288 with 1 Axes>"
      ]
     },
     "metadata": {
      "needs_background": "light"
     },
     "output_type": "display_data"
    }
   ],
   "source": [
    "train['Distance'].hist(bins=50)"
   ]
  },
  {
   "cell_type": "code",
   "execution_count": 52,
   "metadata": {},
   "outputs": [
    {
     "data": {
      "text/plain": [
       "count    1000000.000000\n",
       "mean         784.078499\n",
       "std          590.790469\n",
       "min           16.000000\n",
       "25%          350.000000\n",
       "50%          623.000000\n",
       "75%         1020.000000\n",
       "max         5095.000000\n",
       "Name: Distance, dtype: float64"
      ]
     },
     "execution_count": 52,
     "metadata": {},
     "output_type": "execute_result"
    }
   ],
   "source": [
    "train['Distance'].describe()"
   ]
  },
  {
   "cell_type": "code",
   "execution_count": 53,
   "metadata": {},
   "outputs": [
    {
     "data": {
      "image/png": "[encoded data removed]",
      "text/plain": [
       "<Figure size 432x288 with 1 Axes>"
      ]
     },
     "metadata": {
      "needs_background": "light"
     },
     "output_type": "display_data"
    }
   ],
   "source": [
    "_ = sns.boxplot(data=train, x='Distance')"
   ]
  },
  {
   "cell_type": "code",
   "execution_count": 54,
   "metadata": {},
   "outputs": [
    {
     "data": {
      "text/plain": [
       "<AxesSubplot:>"
      ]
     },
     "execution_count": 54,
     "metadata": {},
     "output_type": "execute_result"
    },
    {
     "data": {
      "image/png": "[encoded data removed]",
      "text/plain": [
       "<Figure size 432x288 with 1 Axes>"
      ]
     },
     "metadata": {
      "needs_background": "light"
     },
     "output_type": "display_data"
    }
   ],
   "source": [
    "np.log1p(train['Distance']).hist()"
   ]
  },
  {
   "cell_type": "code",
   "execution_count": 55,
   "metadata": {},
   "outputs": [],
   "source": [
    "train['Distance_log1p'] = np.log1p(train['Distance'])\n",
    "test['Distance_log1p'] = np.log1p(test['Distance'])"
   ]
  },
  {
   "cell_type": "code",
   "execution_count": 56,
   "metadata": {},
   "outputs": [],
   "source": [
    "train = train.drop(['Distance'],axis=1)\n",
    "test = test.drop(['Distance'],axis=1)"
   ]
  },
  {
   "cell_type": "markdown",
   "metadata": {},
   "source": [
    "- Airline, Carrier_Code(IATA, DOT) 결측치 채우기"
   ]
  },
  {
   "cell_type": "code",
   "execution_count": 57,
   "metadata": {},
   "outputs": [],
   "source": [
    "na_cols = ['Airline','Carrier_Code(IATA)','Carrier_ID(DOT)']\n",
    "for col in na_cols:\n",
    "    mode = train[col].mode()[0]\n",
    "    train[col] = train[col].fillna(mode)\n",
    "    test[col] = test[col].fillna(mode)"
   ]
  },
  {
   "cell_type": "code",
   "execution_count": 58,
   "metadata": {},
   "outputs": [
    {
     "data": {
      "text/html": [
       "<div>\n",
       "<style scoped>\n",
       "    .dataframe tbody tr th:only-of-type {\n",
       "        vertical-align: middle;\n",
       "    }\n",
       "\n",
       "    .dataframe tbody tr th {\n",
       "        vertical-align: top;\n",
       "    }\n",
       "\n",
       "    .dataframe thead th {\n",
       "        text-align: right;\n",
       "    }\n",
       "</style>\n",
       "<table border=\"1\" class=\"dataframe\">\n",
       "  <thead>\n",
       "    <tr style=\"text-align: right;\">\n",
       "      <th></th>\n",
       "      <th>Month</th>\n",
       "      <th>Day_of_Month</th>\n",
       "      <th>Estimated_Departure_Hour</th>\n",
       "      <th>Estimated_Departure_Min</th>\n",
       "      <th>Estimated_Arrival_Hour</th>\n",
       "      <th>Estimated_Arrival_Min</th>\n",
       "      <th>Origin_Airport</th>\n",
       "      <th>Origin_State</th>\n",
       "      <th>Destination_Airport</th>\n",
       "      <th>Destination_State</th>\n",
       "      <th>Airline</th>\n",
       "      <th>Carrier_Code(IATA)</th>\n",
       "      <th>Carrier_ID(DOT)</th>\n",
       "      <th>Tail_Number</th>\n",
       "      <th>Delay</th>\n",
       "      <th>Distance_log1p</th>\n",
       "    </tr>\n",
       "  </thead>\n",
       "  <tbody>\n",
       "    <tr>\n",
       "      <th>0</th>\n",
       "      <td>4</td>\n",
       "      <td>15</td>\n",
       "      <td>6</td>\n",
       "      <td>0</td>\n",
       "      <td>19</td>\n",
       "      <td>0</td>\n",
       "      <td>OKC</td>\n",
       "      <td>Oklahoma</td>\n",
       "      <td>HOU</td>\n",
       "      <td>Texas</td>\n",
       "      <td>Southwest Airlines Co.</td>\n",
       "      <td>WN</td>\n",
       "      <td>19393.0</td>\n",
       "      <td>N7858A</td>\n",
       "      <td>None</td>\n",
       "      <td>6.040255</td>\n",
       "    </tr>\n",
       "    <tr>\n",
       "      <th>1</th>\n",
       "      <td>8</td>\n",
       "      <td>15</td>\n",
       "      <td>7</td>\n",
       "      <td>40</td>\n",
       "      <td>10</td>\n",
       "      <td>24</td>\n",
       "      <td>ORD</td>\n",
       "      <td>Illinois</td>\n",
       "      <td>SLC</td>\n",
       "      <td>Utah</td>\n",
       "      <td>SkyWest Airlines Inc.</td>\n",
       "      <td>UA</td>\n",
       "      <td>20304.0</td>\n",
       "      <td>N125SY</td>\n",
       "      <td>None</td>\n",
       "      <td>7.131699</td>\n",
       "    </tr>\n",
       "    <tr>\n",
       "      <th>2</th>\n",
       "      <td>9</td>\n",
       "      <td>6</td>\n",
       "      <td>16</td>\n",
       "      <td>10</td>\n",
       "      <td>18</td>\n",
       "      <td>5</td>\n",
       "      <td>CLT</td>\n",
       "      <td>North Carolina</td>\n",
       "      <td>LGA</td>\n",
       "      <td>New York</td>\n",
       "      <td>American Airlines Inc.</td>\n",
       "      <td>AA</td>\n",
       "      <td>19805.0</td>\n",
       "      <td>N103US</td>\n",
       "      <td>None</td>\n",
       "      <td>6.300786</td>\n",
       "    </tr>\n",
       "    <tr>\n",
       "      <th>3</th>\n",
       "      <td>7</td>\n",
       "      <td>10</td>\n",
       "      <td>9</td>\n",
       "      <td>5</td>\n",
       "      <td>17</td>\n",
       "      <td>35</td>\n",
       "      <td>LAX</td>\n",
       "      <td>California</td>\n",
       "      <td>EWR</td>\n",
       "      <td>New Jersey</td>\n",
       "      <td>United Air Lines Inc.</td>\n",
       "      <td>UA</td>\n",
       "      <td>19393.0</td>\n",
       "      <td>N595UA</td>\n",
       "      <td>None</td>\n",
       "      <td>7.805882</td>\n",
       "    </tr>\n",
       "    <tr>\n",
       "      <th>4</th>\n",
       "      <td>1</td>\n",
       "      <td>11</td>\n",
       "      <td>9</td>\n",
       "      <td>0</td>\n",
       "      <td>10</td>\n",
       "      <td>19</td>\n",
       "      <td>SFO</td>\n",
       "      <td>California</td>\n",
       "      <td>ACV</td>\n",
       "      <td>California</td>\n",
       "      <td>SkyWest Airlines Inc.</td>\n",
       "      <td>UA</td>\n",
       "      <td>20304.0</td>\n",
       "      <td>N161SY</td>\n",
       "      <td>None</td>\n",
       "      <td>5.525453</td>\n",
       "    </tr>\n",
       "  </tbody>\n",
       "</table>\n",
       "</div>"
      ],
      "text/plain": [
       "   Month  Day_of_Month  Estimated_Departure_Hour  Estimated_Departure_Min  \\\n",
       "0      4            15                         6                        0   \n",
       "1      8            15                         7                       40   \n",
       "2      9             6                        16                       10   \n",
       "3      7            10                         9                        5   \n",
       "4      1            11                         9                        0   \n",
       "\n",
       "   Estimated_Arrival_Hour  Estimated_Arrival_Min Origin_Airport  \\\n",
       "0                      19                      0            OKC   \n",
       "1                      10                     24            ORD   \n",
       "2                      18                      5            CLT   \n",
       "3                      17                     35            LAX   \n",
       "4                      10                     19            SFO   \n",
       "\n",
       "     Origin_State Destination_Airport Destination_State  \\\n",
       "0        Oklahoma                 HOU             Texas   \n",
       "1        Illinois                 SLC              Utah   \n",
       "2  North Carolina                 LGA          New York   \n",
       "3      California                 EWR        New Jersey   \n",
       "4      California                 ACV        California   \n",
       "\n",
       "                  Airline Carrier_Code(IATA)  Carrier_ID(DOT) Tail_Number  \\\n",
       "0  Southwest Airlines Co.                 WN          19393.0      N7858A   \n",
       "1   SkyWest Airlines Inc.                 UA          20304.0      N125SY   \n",
       "2  American Airlines Inc.                 AA          19805.0      N103US   \n",
       "3   United Air Lines Inc.                 UA          19393.0      N595UA   \n",
       "4   SkyWest Airlines Inc.                 UA          20304.0      N161SY   \n",
       "\n",
       "  Delay  Distance_log1p  \n",
       "0  None        6.040255  \n",
       "1  None        7.131699  \n",
       "2  None        6.300786  \n",
       "3  None        7.805882  \n",
       "4  None        5.525453  "
      ]
     },
     "execution_count": 58,
     "metadata": {},
     "output_type": "execute_result"
    }
   ],
   "source": [
    "train.head()"
   ]
  },
  {
   "cell_type": "code",
   "execution_count": 59,
   "metadata": {},
   "outputs": [
    {
     "data": {
      "text/plain": [
       "Month                            0\n",
       "Day_of_Month                     0\n",
       "Estimated_Departure_Hour         0\n",
       "Estimated_Departure_Min          0\n",
       "Estimated_Arrival_Hour           0\n",
       "Estimated_Arrival_Min            0\n",
       "Origin_Airport                   0\n",
       "Origin_State                     0\n",
       "Destination_Airport              0\n",
       "Destination_State                0\n",
       "Airline                          0\n",
       "Carrier_Code(IATA)               0\n",
       "Carrier_ID(DOT)                  0\n",
       "Tail_Number                      0\n",
       "Delay                       744999\n",
       "Distance_log1p                   0\n",
       "dtype: int64"
      ]
     },
     "execution_count": 59,
     "metadata": {},
     "output_type": "execute_result"
    }
   ],
   "source": [
    "train.isna().sum()"
   ]
  },
  {
   "cell_type": "markdown",
   "metadata": {},
   "source": [
    "2. 예측에 도움되는 피쳐 고르기\n",
    "- Month, Day_of_Month, Estimated_Departure_Hour, Estimated_Departure_Min, Estimated_Arrival_Hour, Estimated_Arrival_Min, Origin_State, Destination_State,  Carrier_Code(IATA)(etc 처리), Distance_log1p\n",
    "- Origin_Airport, Destination_Airport, Tail_Number 드랍\n",
    "- Airline, Carrier_ID(DOT)는 일단 실행해보고 보류"
   ]
  },
  {
   "cell_type": "code",
   "execution_count": 60,
   "metadata": {},
   "outputs": [
    {
     "data": {
      "text/plain": [
       "Month                         12\n",
       "Day_of_Month                  31\n",
       "Estimated_Departure_Hour      24\n",
       "Estimated_Departure_Min       60\n",
       "Estimated_Arrival_Hour        25\n",
       "Estimated_Arrival_Min         60\n",
       "Origin_Airport               374\n",
       "Origin_State                  52\n",
       "Destination_Airport          375\n",
       "Destination_State             52\n",
       "Airline                       28\n",
       "Carrier_Code(IATA)            11\n",
       "Carrier_ID(DOT)               28\n",
       "Tail_Number                 6430\n",
       "Delay                          2\n",
       "Distance_log1p              1597\n",
       "dtype: int64"
      ]
     },
     "execution_count": 60,
     "metadata": {},
     "output_type": "execute_result"
    }
   ],
   "source": [
    "train.nunique()"
   ]
  },
  {
   "cell_type": "code",
   "execution_count": 61,
   "metadata": {},
   "outputs": [],
   "source": [
    "train = train.drop(['Origin_Airport','Destination_Airport','Tail_Number'], axis=1)\n",
    "test = test.drop(['Origin_Airport','Destination_Airport','Tail_Number'], axis=1)"
   ]
  },
  {
   "cell_type": "markdown",
   "metadata": {},
   "source": [
    "Carrier_Code(IATA) column 비율 낮은 카테고리 기타 처리"
   ]
  },
  {
   "cell_type": "code",
   "execution_count": 62,
   "metadata": {},
   "outputs": [],
   "source": [
    "cc_low_count = (train['Carrier_Code(IATA)'].value_counts(normalize=True) < 0.1)\n",
    "low_rate_cc = cc_low_count[cc_low_count].index"
   ]
  },
  {
   "cell_type": "code",
   "execution_count": 63,
   "metadata": {},
   "outputs": [
    {
     "data": {
      "text/plain": [
       "Index(['AS', 'B6', 'NK', 'F9', 'G4', 'HA', 'VX'], dtype='object')"
      ]
     },
     "execution_count": 63,
     "metadata": {},
     "output_type": "execute_result"
    }
   ],
   "source": [
    "low_rate_cc"
   ]
  },
  {
   "cell_type": "code",
   "execution_count": 64,
   "metadata": {},
   "outputs": [],
   "source": [
    "for cc in low_rate_cc:\n",
    "    train.loc[train['Carrier_Code(IATA)'] == cc, 'Carrier_Code(IATA)'] ='etc'\n",
    "    test.loc[test['Carrier_Code(IATA)'] == cc, 'Carrier_Code(IATA)'] = 'etc'"
   ]
  },
  {
   "cell_type": "code",
   "execution_count": 65,
   "metadata": {},
   "outputs": [
    {
     "data": {
      "text/plain": [
       "{'9E', 'EV', 'MQ', 'OH', 'OO', 'YV', 'YX'}"
      ]
     },
     "execution_count": 65,
     "metadata": {},
     "output_type": "execute_result"
    }
   ],
   "source": [
    "only_test_cc = set(test['Carrier_Code(IATA)'].unique()) - set(train['Carrier_Code(IATA)'].unique())\n",
    "only_test_cc"
   ]
  },
  {
   "cell_type": "code",
   "execution_count": 66,
   "metadata": {},
   "outputs": [],
   "source": [
    "for cc in only_test_cc:\n",
    "    test.loc[test['Carrier_Code(IATA)'] == cc, 'Carrier_Code(IATA)'] = 'etc'"
   ]
  },
  {
   "cell_type": "code",
   "execution_count": 67,
   "metadata": {},
   "outputs": [
    {
     "data": {
      "text/plain": [
       "UA     0.315201\n",
       "WN     0.182189\n",
       "AA     0.182099\n",
       "DL     0.161266\n",
       "etc    0.159245\n",
       "Name: Carrier_Code(IATA), dtype: float64"
      ]
     },
     "execution_count": 67,
     "metadata": {},
     "output_type": "execute_result"
    }
   ],
   "source": [
    "train['Carrier_Code(IATA)'].value_counts(normalize=True)"
   ]
  },
  {
   "cell_type": "code",
   "execution_count": 68,
   "metadata": {},
   "outputs": [
    {
     "data": {
      "text/plain": [
       "UA     0.309167\n",
       "AA     0.182635\n",
       "WN     0.179818\n",
       "etc    0.175695\n",
       "DL     0.152685\n",
       "Name: Carrier_Code(IATA), dtype: float64"
      ]
     },
     "execution_count": 68,
     "metadata": {},
     "output_type": "execute_result"
    }
   ],
   "source": [
    "test['Carrier_Code(IATA)'].value_counts(normalize=True)"
   ]
  },
  {
   "cell_type": "markdown",
   "metadata": {},
   "source": [
    "Airline 비율 낮은 카테고리 기타 처리"
   ]
  },
  {
   "cell_type": "code",
   "execution_count": 69,
   "metadata": {},
   "outputs": [
    {
     "data": {
      "text/plain": [
       "Southwest Airlines Co.                       0.291033\n",
       "Delta Air Lines Inc.                         0.089750\n",
       "SkyWest Airlines Inc.                        0.086867\n",
       "United Air Lines Inc.                        0.084070\n",
       "American Airlines Inc.                       0.082755\n",
       "JetBlue Airways                              0.041643\n",
       "Republic Airlines                            0.033582\n",
       "Alaska Airlines Inc.                         0.029141\n",
       "Envoy Air                                    0.027455\n",
       "Spirit Air Lines                             0.024998\n",
       "Comair Inc.                                  0.024723\n",
       "Mesa Airlines Inc.                           0.024679\n",
       "Endeavor Air Inc.                            0.023172\n",
       "ExpressJet Airlines Inc.                     0.020144\n",
       "Frontier Airlines Inc.                       0.017415\n",
       "Allegiant Air                                0.013667\n",
       "Air Wisconsin Airlines Corp                  0.013400\n",
       "Horizon Air                                  0.013087\n",
       "Hawaiian Airlines Inc.                       0.010907\n",
       "Capital Cargo International                  0.009954\n",
       "GoJet Airlines, LLC d/b/a United Express     0.009554\n",
       "Trans States Airlines                        0.009363\n",
       "Compass Airlines                             0.008876\n",
       "Commutair Aka Champlain Enterprises, Inc.    0.007143\n",
       "Virgin America                               0.001303\n",
       "Empire Airlines Inc.                         0.001056\n",
       "Peninsula Airways Inc.                       0.000146\n",
       "Cape Air                                     0.000117\n",
       "Name: Airline, dtype: float64"
      ]
     },
     "execution_count": 69,
     "metadata": {},
     "output_type": "execute_result"
    }
   ],
   "source": [
    "train['Airline'].value_counts(normalize=True)\n"
   ]
  },
  {
   "cell_type": "code",
   "execution_count": 70,
   "metadata": {},
   "outputs": [
    {
     "data": {
      "text/plain": [
       "0.7097"
      ]
     },
     "execution_count": 70,
     "metadata": {},
     "output_type": "execute_result"
    }
   ],
   "source": [
    "train['Airline'].value_counts(normalize=True)[\n",
    "    train['Airline'].value_counts(normalize=True) > 0.03].sum()"
   ]
  },
  {
   "cell_type": "code",
   "execution_count": 71,
   "metadata": {},
   "outputs": [],
   "source": [
    "airline_low_count = (train['Airline'].value_counts(normalize=True) < 0.03)\n",
    "low_rate_airline = airline_low_count[airline_low_count].index"
   ]
  },
  {
   "cell_type": "code",
   "execution_count": 72,
   "metadata": {},
   "outputs": [
    {
     "data": {
      "text/plain": [
       "Index(['Alaska Airlines Inc.', 'Envoy Air', 'Spirit Air Lines', 'Comair Inc.',\n",
       "       'Mesa Airlines Inc.', 'Endeavor Air Inc.', 'ExpressJet Airlines Inc.',\n",
       "       'Frontier Airlines Inc.', 'Allegiant Air',\n",
       "       'Air Wisconsin Airlines Corp', 'Horizon Air', 'Hawaiian Airlines Inc.',\n",
       "       'Capital Cargo International',\n",
       "       'GoJet Airlines, LLC d/b/a United Express', 'Trans States Airlines',\n",
       "       'Compass Airlines', 'Commutair Aka Champlain Enterprises, Inc.',\n",
       "       'Virgin America', 'Empire Airlines Inc.', 'Peninsula Airways Inc.',\n",
       "       'Cape Air'],\n",
       "      dtype='object')"
      ]
     },
     "execution_count": 72,
     "metadata": {},
     "output_type": "execute_result"
    }
   ],
   "source": [
    "low_rate_airline"
   ]
  },
  {
   "cell_type": "code",
   "execution_count": 73,
   "metadata": {},
   "outputs": [],
   "source": [
    "for cc in low_rate_airline:\n",
    "    train.loc[train['Airline'] == cc, 'Airline'] = 'etc'\n",
    "    test.loc[test['Airline'] == cc, 'Airline'] = 'etc'"
   ]
  },
  {
   "cell_type": "code",
   "execution_count": 74,
   "metadata": {},
   "outputs": [
    {
     "data": {
      "text/plain": [
       "set()"
      ]
     },
     "execution_count": 74,
     "metadata": {},
     "output_type": "execute_result"
    }
   ],
   "source": [
    "only_test_al = set(test['Airline'].unique()) - set(train['Airline'].unique())\n",
    "only_test_al"
   ]
  },
  {
   "cell_type": "code",
   "execution_count": 75,
   "metadata": {},
   "outputs": [
    {
     "data": {
      "text/plain": [
       "Southwest Airlines Co.    0.291033\n",
       "etc                       0.290300\n",
       "Delta Air Lines Inc.      0.089750\n",
       "SkyWest Airlines Inc.     0.086867\n",
       "United Air Lines Inc.     0.084070\n",
       "American Airlines Inc.    0.082755\n",
       "JetBlue Airways           0.041643\n",
       "Republic Airlines         0.033582\n",
       "Name: Airline, dtype: float64"
      ]
     },
     "execution_count": 75,
     "metadata": {},
     "output_type": "execute_result"
    }
   ],
   "source": [
    "train['Airline'].value_counts(normalize=True)"
   ]
  },
  {
   "cell_type": "code",
   "execution_count": 76,
   "metadata": {},
   "outputs": [
    {
     "data": {
      "text/plain": [
       "etc                       0.291113\n",
       "Southwest Airlines Co.    0.289785\n",
       "Delta Air Lines Inc.      0.086363\n",
       "American Airlines Inc.    0.086056\n",
       "SkyWest Airlines Inc.     0.085650\n",
       "United Air Lines Inc.     0.083733\n",
       "JetBlue Airways           0.044116\n",
       "Republic Airlines         0.033184\n",
       "Name: Airline, dtype: float64"
      ]
     },
     "execution_count": 76,
     "metadata": {},
     "output_type": "execute_result"
    }
   ],
   "source": [
    "test['Airline'].value_counts(normalize=True)"
   ]
  },
  {
   "cell_type": "markdown",
   "metadata": {},
   "source": [
    "Carrier_ID(DOT) column 비율 낮은 카테고리 기타 처리"
   ]
  },
  {
   "cell_type": "code",
   "execution_count": 77,
   "metadata": {},
   "outputs": [
    {
     "data": {
      "text/plain": [
       "19393.0    0.291022\n",
       "19790.0    0.089958\n",
       "20304.0    0.086902\n",
       "19977.0    0.083984\n",
       "19805.0    0.082860\n",
       "20409.0    0.041615\n",
       "20452.0    0.033351\n",
       "19930.0    0.029085\n",
       "20398.0    0.027474\n",
       "20416.0    0.024983\n",
       "20397.0    0.024838\n",
       "20378.0    0.024699\n",
       "20363.0    0.023113\n",
       "20366.0    0.020197\n",
       "20436.0    0.017440\n",
       "20368.0    0.013739\n",
       "20046.0    0.013319\n",
       "19687.0    0.013107\n",
       "19690.0    0.010921\n",
       "20427.0    0.009962\n",
       "20500.0    0.009532\n",
       "20237.0    0.009321\n",
       "21167.0    0.008813\n",
       "20445.0    0.007124\n",
       "21171.0    0.001324\n",
       "20263.0    0.001052\n",
       "20225.0    0.000142\n",
       "20253.0    0.000123\n",
       "Name: Carrier_ID(DOT), dtype: float64"
      ]
     },
     "execution_count": 77,
     "metadata": {},
     "output_type": "execute_result"
    }
   ],
   "source": [
    "train['Carrier_ID(DOT)'].value_counts(normalize=True)"
   ]
  },
  {
   "cell_type": "code",
   "execution_count": 78,
   "metadata": {},
   "outputs": [
    {
     "data": {
      "text/plain": [
       "0.709692"
      ]
     },
     "execution_count": 78,
     "metadata": {},
     "output_type": "execute_result"
    }
   ],
   "source": [
    "train['Carrier_ID(DOT)'].value_counts(normalize=True)[\n",
    "    train['Carrier_ID(DOT)'].value_counts(normalize=True) > 0.03].sum()"
   ]
  },
  {
   "cell_type": "code",
   "execution_count": 79,
   "metadata": {},
   "outputs": [],
   "source": [
    "ci_low_count = (train['Carrier_ID(DOT)'].value_counts(normalize=True) < 0.03)\n",
    "low_rate_ci = ci_low_count[ci_low_count].index"
   ]
  },
  {
   "cell_type": "code",
   "execution_count": 80,
   "metadata": {},
   "outputs": [
    {
     "data": {
      "text/plain": [
       "Float64Index([19930.0, 20398.0, 20416.0, 20397.0, 20378.0, 20363.0, 20366.0,\n",
       "              20436.0, 20368.0, 20046.0, 19687.0, 19690.0, 20427.0, 20500.0,\n",
       "              20237.0, 21167.0, 20445.0, 21171.0, 20263.0, 20225.0, 20253.0],\n",
       "             dtype='float64')"
      ]
     },
     "execution_count": 80,
     "metadata": {},
     "output_type": "execute_result"
    }
   ],
   "source": [
    "low_rate_ci\n"
   ]
  },
  {
   "cell_type": "code",
   "execution_count": 81,
   "metadata": {},
   "outputs": [],
   "source": [
    "for cc in low_rate_ci:\n",
    "    train.loc[train['Carrier_ID(DOT)'] == cc, 'Carrier_ID(DOT)'] = 30000.0\n",
    "    test.loc[test['Carrier_ID(DOT)'] == cc, 'Carrier_ID(DOT)'] = 30000.0"
   ]
  },
  {
   "cell_type": "code",
   "execution_count": 82,
   "metadata": {},
   "outputs": [
    {
     "data": {
      "text/plain": [
       "set()"
      ]
     },
     "execution_count": 82,
     "metadata": {},
     "output_type": "execute_result"
    }
   ],
   "source": [
    "only_test_ci = set(test['Carrier_ID(DOT)'].unique()) - set(train['Carrier_ID(DOT)'].unique())\n",
    "only_test_ci"
   ]
  },
  {
   "cell_type": "code",
   "execution_count": 83,
   "metadata": {},
   "outputs": [
    {
     "data": {
      "text/plain": [
       "19393.0    0.291022\n",
       "30000.0    0.290308\n",
       "19790.0    0.089958\n",
       "20304.0    0.086902\n",
       "19977.0    0.083984\n",
       "19805.0    0.082860\n",
       "20409.0    0.041615\n",
       "20452.0    0.033351\n",
       "Name: Carrier_ID(DOT), dtype: float64"
      ]
     },
     "execution_count": 83,
     "metadata": {},
     "output_type": "execute_result"
    }
   ],
   "source": [
    "train['Carrier_ID(DOT)'].value_counts(normalize=True)"
   ]
  },
  {
   "cell_type": "code",
   "execution_count": 84,
   "metadata": {},
   "outputs": [
    {
     "data": {
      "text/plain": [
       "30000.0    0.290554\n",
       "19393.0    0.288916\n",
       "19805.0    0.087875\n",
       "19790.0    0.086309\n",
       "20304.0    0.086241\n",
       "19977.0    0.082990\n",
       "20409.0    0.044001\n",
       "20452.0    0.033114\n",
       "Name: Carrier_ID(DOT), dtype: float64"
      ]
     },
     "execution_count": 84,
     "metadata": {},
     "output_type": "execute_result"
    }
   ],
   "source": [
    "test['Carrier_ID(DOT)'].value_counts(normalize=True)"
   ]
  },
  {
   "cell_type": "markdown",
   "metadata": {},
   "source": [
    "#### Categorical columns Labeling"
   ]
  },
  {
   "cell_type": "code",
   "execution_count": 85,
   "metadata": {},
   "outputs": [
    {
     "data": {
      "text/html": [
       "<div>\n",
       "<style scoped>\n",
       "    .dataframe tbody tr th:only-of-type {\n",
       "        vertical-align: middle;\n",
       "    }\n",
       "\n",
       "    .dataframe tbody tr th {\n",
       "        vertical-align: top;\n",
       "    }\n",
       "\n",
       "    .dataframe thead th {\n",
       "        text-align: right;\n",
       "    }\n",
       "</style>\n",
       "<table border=\"1\" class=\"dataframe\">\n",
       "  <thead>\n",
       "    <tr style=\"text-align: right;\">\n",
       "      <th></th>\n",
       "      <th>Month</th>\n",
       "      <th>Day_of_Month</th>\n",
       "      <th>Estimated_Departure_Hour</th>\n",
       "      <th>Estimated_Departure_Min</th>\n",
       "      <th>Estimated_Arrival_Hour</th>\n",
       "      <th>Estimated_Arrival_Min</th>\n",
       "      <th>Origin_State</th>\n",
       "      <th>Destination_State</th>\n",
       "      <th>Airline</th>\n",
       "      <th>Carrier_Code(IATA)</th>\n",
       "      <th>Carrier_ID(DOT)</th>\n",
       "      <th>Delay</th>\n",
       "      <th>Distance_log1p</th>\n",
       "    </tr>\n",
       "  </thead>\n",
       "  <tbody>\n",
       "    <tr>\n",
       "      <th>0</th>\n",
       "      <td>4</td>\n",
       "      <td>15</td>\n",
       "      <td>6</td>\n",
       "      <td>0</td>\n",
       "      <td>19</td>\n",
       "      <td>0</td>\n",
       "      <td>Oklahoma</td>\n",
       "      <td>Texas</td>\n",
       "      <td>Southwest Airlines Co.</td>\n",
       "      <td>WN</td>\n",
       "      <td>19393.0</td>\n",
       "      <td>None</td>\n",
       "      <td>6.040255</td>\n",
       "    </tr>\n",
       "    <tr>\n",
       "      <th>1</th>\n",
       "      <td>8</td>\n",
       "      <td>15</td>\n",
       "      <td>7</td>\n",
       "      <td>40</td>\n",
       "      <td>10</td>\n",
       "      <td>24</td>\n",
       "      <td>Illinois</td>\n",
       "      <td>Utah</td>\n",
       "      <td>SkyWest Airlines Inc.</td>\n",
       "      <td>UA</td>\n",
       "      <td>20304.0</td>\n",
       "      <td>None</td>\n",
       "      <td>7.131699</td>\n",
       "    </tr>\n",
       "    <tr>\n",
       "      <th>2</th>\n",
       "      <td>9</td>\n",
       "      <td>6</td>\n",
       "      <td>16</td>\n",
       "      <td>10</td>\n",
       "      <td>18</td>\n",
       "      <td>5</td>\n",
       "      <td>North Carolina</td>\n",
       "      <td>New York</td>\n",
       "      <td>American Airlines Inc.</td>\n",
       "      <td>AA</td>\n",
       "      <td>19805.0</td>\n",
       "      <td>None</td>\n",
       "      <td>6.300786</td>\n",
       "    </tr>\n",
       "    <tr>\n",
       "      <th>3</th>\n",
       "      <td>7</td>\n",
       "      <td>10</td>\n",
       "      <td>9</td>\n",
       "      <td>5</td>\n",
       "      <td>17</td>\n",
       "      <td>35</td>\n",
       "      <td>California</td>\n",
       "      <td>New Jersey</td>\n",
       "      <td>United Air Lines Inc.</td>\n",
       "      <td>UA</td>\n",
       "      <td>19393.0</td>\n",
       "      <td>None</td>\n",
       "      <td>7.805882</td>\n",
       "    </tr>\n",
       "    <tr>\n",
       "      <th>4</th>\n",
       "      <td>1</td>\n",
       "      <td>11</td>\n",
       "      <td>9</td>\n",
       "      <td>0</td>\n",
       "      <td>10</td>\n",
       "      <td>19</td>\n",
       "      <td>California</td>\n",
       "      <td>California</td>\n",
       "      <td>SkyWest Airlines Inc.</td>\n",
       "      <td>UA</td>\n",
       "      <td>20304.0</td>\n",
       "      <td>None</td>\n",
       "      <td>5.525453</td>\n",
       "    </tr>\n",
       "  </tbody>\n",
       "</table>\n",
       "</div>"
      ],
      "text/plain": [
       "   Month  Day_of_Month  Estimated_Departure_Hour  Estimated_Departure_Min  \\\n",
       "0      4            15                         6                        0   \n",
       "1      8            15                         7                       40   \n",
       "2      9             6                        16                       10   \n",
       "3      7            10                         9                        5   \n",
       "4      1            11                         9                        0   \n",
       "\n",
       "   Estimated_Arrival_Hour  Estimated_Arrival_Min    Origin_State  \\\n",
       "0                      19                      0        Oklahoma   \n",
       "1                      10                     24        Illinois   \n",
       "2                      18                      5  North Carolina   \n",
       "3                      17                     35      California   \n",
       "4                      10                     19      California   \n",
       "\n",
       "  Destination_State                 Airline Carrier_Code(IATA)  \\\n",
       "0             Texas  Southwest Airlines Co.                 WN   \n",
       "1              Utah   SkyWest Airlines Inc.                 UA   \n",
       "2          New York  American Airlines Inc.                 AA   \n",
       "3        New Jersey   United Air Lines Inc.                 UA   \n",
       "4        California   SkyWest Airlines Inc.                 UA   \n",
       "\n",
       "   Carrier_ID(DOT) Delay  Distance_log1p  \n",
       "0          19393.0  None        6.040255  \n",
       "1          20304.0  None        7.131699  \n",
       "2          19805.0  None        6.300786  \n",
       "3          19393.0  None        7.805882  \n",
       "4          20304.0  None        5.525453  "
      ]
     },
     "execution_count": 85,
     "metadata": {},
     "output_type": "execute_result"
    }
   ],
   "source": [
    "train.head()"
   ]
  },
  {
   "cell_type": "code",
   "execution_count": 86,
   "metadata": {},
   "outputs": [
    {
     "data": {
      "text/plain": [
       "Index(['Month', 'Day_of_Month', 'Estimated_Departure_Hour',\n",
       "       'Estimated_Departure_Min', 'Estimated_Arrival_Hour',\n",
       "       'Estimated_Arrival_Min', 'Origin_State', 'Destination_State', 'Airline',\n",
       "       'Carrier_Code(IATA)', 'Carrier_ID(DOT)', 'Delay', 'Distance_log1p'],\n",
       "      dtype='object')"
      ]
     },
     "execution_count": 86,
     "metadata": {},
     "output_type": "execute_result"
    }
   ],
   "source": [
    "train.columns"
   ]
  },
  {
   "cell_type": "code",
   "execution_count": 87,
   "metadata": {},
   "outputs": [],
   "source": [
    "cate_cols = ['Origin_State', 'Destination_State','Airline',\n",
    "       'Carrier_Code(IATA)', 'Carrier_ID(DOT)']"
   ]
  },
  {
   "cell_type": "code",
   "execution_count": 88,
   "metadata": {},
   "outputs": [],
   "source": [
    "for col in cate_cols:\n",
    "    le = LabelEncoder()\n",
    "    le.fit(train[col])\n",
    "    train[col] = le.transform(train[col])\n",
    "    test[col] = le.transform(test[col])"
   ]
  },
  {
   "cell_type": "code",
   "execution_count": 89,
   "metadata": {},
   "outputs": [
    {
     "data": {
      "text/html": [
       "<div>\n",
       "<style scoped>\n",
       "    .dataframe tbody tr th:only-of-type {\n",
       "        vertical-align: middle;\n",
       "    }\n",
       "\n",
       "    .dataframe tbody tr th {\n",
       "        vertical-align: top;\n",
       "    }\n",
       "\n",
       "    .dataframe thead th {\n",
       "        text-align: right;\n",
       "    }\n",
       "</style>\n",
       "<table border=\"1\" class=\"dataframe\">\n",
       "  <thead>\n",
       "    <tr style=\"text-align: right;\">\n",
       "      <th></th>\n",
       "      <th>Month</th>\n",
       "      <th>Day_of_Month</th>\n",
       "      <th>Estimated_Departure_Hour</th>\n",
       "      <th>Estimated_Departure_Min</th>\n",
       "      <th>Estimated_Arrival_Hour</th>\n",
       "      <th>Estimated_Arrival_Min</th>\n",
       "      <th>Origin_State</th>\n",
       "      <th>Destination_State</th>\n",
       "      <th>Airline</th>\n",
       "      <th>Carrier_Code(IATA)</th>\n",
       "      <th>Carrier_ID(DOT)</th>\n",
       "      <th>Delay</th>\n",
       "      <th>Distance_log1p</th>\n",
       "    </tr>\n",
       "  </thead>\n",
       "  <tbody>\n",
       "    <tr>\n",
       "      <th>0</th>\n",
       "      <td>4</td>\n",
       "      <td>15</td>\n",
       "      <td>6</td>\n",
       "      <td>0</td>\n",
       "      <td>19</td>\n",
       "      <td>0</td>\n",
       "      <td>34</td>\n",
       "      <td>42</td>\n",
       "      <td>5</td>\n",
       "      <td>3</td>\n",
       "      <td>0</td>\n",
       "      <td>None</td>\n",
       "      <td>6.040255</td>\n",
       "    </tr>\n",
       "    <tr>\n",
       "      <th>1</th>\n",
       "      <td>8</td>\n",
       "      <td>15</td>\n",
       "      <td>7</td>\n",
       "      <td>40</td>\n",
       "      <td>10</td>\n",
       "      <td>24</td>\n",
       "      <td>11</td>\n",
       "      <td>45</td>\n",
       "      <td>4</td>\n",
       "      <td>2</td>\n",
       "      <td>4</td>\n",
       "      <td>None</td>\n",
       "      <td>7.131699</td>\n",
       "    </tr>\n",
       "    <tr>\n",
       "      <th>2</th>\n",
       "      <td>9</td>\n",
       "      <td>6</td>\n",
       "      <td>16</td>\n",
       "      <td>10</td>\n",
       "      <td>18</td>\n",
       "      <td>5</td>\n",
       "      <td>31</td>\n",
       "      <td>30</td>\n",
       "      <td>0</td>\n",
       "      <td>0</td>\n",
       "      <td>2</td>\n",
       "      <td>None</td>\n",
       "      <td>6.300786</td>\n",
       "    </tr>\n",
       "    <tr>\n",
       "      <th>3</th>\n",
       "      <td>7</td>\n",
       "      <td>10</td>\n",
       "      <td>9</td>\n",
       "      <td>5</td>\n",
       "      <td>17</td>\n",
       "      <td>35</td>\n",
       "      <td>4</td>\n",
       "      <td>28</td>\n",
       "      <td>6</td>\n",
       "      <td>2</td>\n",
       "      <td>0</td>\n",
       "      <td>None</td>\n",
       "      <td>7.805882</td>\n",
       "    </tr>\n",
       "    <tr>\n",
       "      <th>4</th>\n",
       "      <td>1</td>\n",
       "      <td>11</td>\n",
       "      <td>9</td>\n",
       "      <td>0</td>\n",
       "      <td>10</td>\n",
       "      <td>19</td>\n",
       "      <td>4</td>\n",
       "      <td>4</td>\n",
       "      <td>4</td>\n",
       "      <td>2</td>\n",
       "      <td>4</td>\n",
       "      <td>None</td>\n",
       "      <td>5.525453</td>\n",
       "    </tr>\n",
       "  </tbody>\n",
       "</table>\n",
       "</div>"
      ],
      "text/plain": [
       "   Month  Day_of_Month  Estimated_Departure_Hour  Estimated_Departure_Min  \\\n",
       "0      4            15                         6                        0   \n",
       "1      8            15                         7                       40   \n",
       "2      9             6                        16                       10   \n",
       "3      7            10                         9                        5   \n",
       "4      1            11                         9                        0   \n",
       "\n",
       "   Estimated_Arrival_Hour  Estimated_Arrival_Min  Origin_State  \\\n",
       "0                      19                      0            34   \n",
       "1                      10                     24            11   \n",
       "2                      18                      5            31   \n",
       "3                      17                     35             4   \n",
       "4                      10                     19             4   \n",
       "\n",
       "   Destination_State  Airline  Carrier_Code(IATA)  Carrier_ID(DOT) Delay  \\\n",
       "0                 42        5                   3                0  None   \n",
       "1                 45        4                   2                4  None   \n",
       "2                 30        0                   0                2  None   \n",
       "3                 28        6                   2                0  None   \n",
       "4                  4        4                   2                4  None   \n",
       "\n",
       "   Distance_log1p  \n",
       "0        6.040255  \n",
       "1        7.131699  \n",
       "2        6.300786  \n",
       "3        7.805882  \n",
       "4        5.525453  "
      ]
     },
     "execution_count": 89,
     "metadata": {},
     "output_type": "execute_result"
    }
   ],
   "source": [
    "train.head()"
   ]
  },
  {
   "cell_type": "code",
   "execution_count": 90,
   "metadata": {},
   "outputs": [
    {
     "data": {
      "text/html": [
       "<div>\n",
       "<style scoped>\n",
       "    .dataframe tbody tr th:only-of-type {\n",
       "        vertical-align: middle;\n",
       "    }\n",
       "\n",
       "    .dataframe tbody tr th {\n",
       "        vertical-align: top;\n",
       "    }\n",
       "\n",
       "    .dataframe thead th {\n",
       "        text-align: right;\n",
       "    }\n",
       "</style>\n",
       "<table border=\"1\" class=\"dataframe\">\n",
       "  <thead>\n",
       "    <tr style=\"text-align: right;\">\n",
       "      <th></th>\n",
       "      <th>Month</th>\n",
       "      <th>Day_of_Month</th>\n",
       "      <th>Estimated_Departure_Hour</th>\n",
       "      <th>Estimated_Departure_Min</th>\n",
       "      <th>Estimated_Arrival_Hour</th>\n",
       "      <th>Estimated_Arrival_Min</th>\n",
       "      <th>Origin_State</th>\n",
       "      <th>Destination_State</th>\n",
       "      <th>Airline</th>\n",
       "      <th>Carrier_Code(IATA)</th>\n",
       "      <th>Carrier_ID(DOT)</th>\n",
       "      <th>Delay</th>\n",
       "      <th>Distance_log1p</th>\n",
       "    </tr>\n",
       "  </thead>\n",
       "  <tbody>\n",
       "    <tr>\n",
       "      <th>0</th>\n",
       "      <td>12</td>\n",
       "      <td>16</td>\n",
       "      <td>11</td>\n",
       "      <td>56</td>\n",
       "      <td>19</td>\n",
       "      <td>0</td>\n",
       "      <td>42</td>\n",
       "      <td>42</td>\n",
       "      <td>6</td>\n",
       "      <td>2</td>\n",
       "      <td>0</td>\n",
       "      <td>NaN</td>\n",
       "      <td>5.257495</td>\n",
       "    </tr>\n",
       "    <tr>\n",
       "      <th>1</th>\n",
       "      <td>9</td>\n",
       "      <td>12</td>\n",
       "      <td>15</td>\n",
       "      <td>0</td>\n",
       "      <td>17</td>\n",
       "      <td>15</td>\n",
       "      <td>28</td>\n",
       "      <td>8</td>\n",
       "      <td>1</td>\n",
       "      <td>1</td>\n",
       "      <td>1</td>\n",
       "      <td>NaN</td>\n",
       "      <td>6.616065</td>\n",
       "    </tr>\n",
       "    <tr>\n",
       "      <th>2</th>\n",
       "      <td>3</td>\n",
       "      <td>6</td>\n",
       "      <td>16</td>\n",
       "      <td>0</td>\n",
       "      <td>19</td>\n",
       "      <td>15</td>\n",
       "      <td>11</td>\n",
       "      <td>30</td>\n",
       "      <td>6</td>\n",
       "      <td>2</td>\n",
       "      <td>3</td>\n",
       "      <td>NaN</td>\n",
       "      <td>6.598509</td>\n",
       "    </tr>\n",
       "    <tr>\n",
       "      <th>3</th>\n",
       "      <td>5</td>\n",
       "      <td>18</td>\n",
       "      <td>19</td>\n",
       "      <td>20</td>\n",
       "      <td>20</td>\n",
       "      <td>45</td>\n",
       "      <td>4</td>\n",
       "      <td>4</td>\n",
       "      <td>5</td>\n",
       "      <td>3</td>\n",
       "      <td>0</td>\n",
       "      <td>NaN</td>\n",
       "      <td>5.823046</td>\n",
       "    </tr>\n",
       "    <tr>\n",
       "      <th>4</th>\n",
       "      <td>7</td>\n",
       "      <td>7</td>\n",
       "      <td>19</td>\n",
       "      <td>15</td>\n",
       "      <td>21</td>\n",
       "      <td>52</td>\n",
       "      <td>7</td>\n",
       "      <td>4</td>\n",
       "      <td>2</td>\n",
       "      <td>4</td>\n",
       "      <td>5</td>\n",
       "      <td>NaN</td>\n",
       "      <td>7.759614</td>\n",
       "    </tr>\n",
       "  </tbody>\n",
       "</table>\n",
       "</div>"
      ],
      "text/plain": [
       "   Month  Day_of_Month  Estimated_Departure_Hour  Estimated_Departure_Min  \\\n",
       "0     12            16                        11                       56   \n",
       "1      9            12                        15                        0   \n",
       "2      3             6                        16                        0   \n",
       "3      5            18                        19                       20   \n",
       "4      7             7                        19                       15   \n",
       "\n",
       "   Estimated_Arrival_Hour  Estimated_Arrival_Min  Origin_State  \\\n",
       "0                      19                      0            42   \n",
       "1                      17                     15            28   \n",
       "2                      19                     15            11   \n",
       "3                      20                     45             4   \n",
       "4                      21                     52             7   \n",
       "\n",
       "   Destination_State  Airline  Carrier_Code(IATA)  Carrier_ID(DOT)  Delay  \\\n",
       "0                 42        6                   2                0    NaN   \n",
       "1                  8        1                   1                1    NaN   \n",
       "2                 30        6                   2                3    NaN   \n",
       "3                  4        5                   3                0    NaN   \n",
       "4                  4        2                   4                5    NaN   \n",
       "\n",
       "   Distance_log1p  \n",
       "0        5.257495  \n",
       "1        6.616065  \n",
       "2        6.598509  \n",
       "3        5.823046  \n",
       "4        7.759614  "
      ]
     },
     "execution_count": 90,
     "metadata": {},
     "output_type": "execute_result"
    }
   ],
   "source": [
    "test.head()"
   ]
  },
  {
   "cell_type": "markdown",
   "metadata": {},
   "source": [
    "### 준지도학습"
   ]
  },
  {
   "cell_type": "markdown",
   "metadata": {},
   "source": [
    "#### labeling된 train data 추출"
   ]
  },
  {
   "cell_type": "code",
   "execution_count": 91,
   "metadata": {},
   "outputs": [
    {
     "data": {
      "text/html": [
       "<div>\n",
       "<style scoped>\n",
       "    .dataframe tbody tr th:only-of-type {\n",
       "        vertical-align: middle;\n",
       "    }\n",
       "\n",
       "    .dataframe tbody tr th {\n",
       "        vertical-align: top;\n",
       "    }\n",
       "\n",
       "    .dataframe thead th {\n",
       "        text-align: right;\n",
       "    }\n",
       "</style>\n",
       "<table border=\"1\" class=\"dataframe\">\n",
       "  <thead>\n",
       "    <tr style=\"text-align: right;\">\n",
       "      <th></th>\n",
       "      <th>Month</th>\n",
       "      <th>Day_of_Month</th>\n",
       "      <th>Estimated_Departure_Hour</th>\n",
       "      <th>Estimated_Departure_Min</th>\n",
       "      <th>Estimated_Arrival_Hour</th>\n",
       "      <th>Estimated_Arrival_Min</th>\n",
       "      <th>Origin_State</th>\n",
       "      <th>Destination_State</th>\n",
       "      <th>Airline</th>\n",
       "      <th>Carrier_Code(IATA)</th>\n",
       "      <th>Carrier_ID(DOT)</th>\n",
       "      <th>Delay</th>\n",
       "      <th>Distance_log1p</th>\n",
       "    </tr>\n",
       "  </thead>\n",
       "  <tbody>\n",
       "    <tr>\n",
       "      <th>5</th>\n",
       "      <td>4</td>\n",
       "      <td>13</td>\n",
       "      <td>15</td>\n",
       "      <td>45</td>\n",
       "      <td>19</td>\n",
       "      <td>0</td>\n",
       "      <td>28</td>\n",
       "      <td>47</td>\n",
       "      <td>3</td>\n",
       "      <td>2</td>\n",
       "      <td>6</td>\n",
       "      <td>Not_Delayed</td>\n",
       "      <td>5.298317</td>\n",
       "    </tr>\n",
       "    <tr>\n",
       "      <th>6</th>\n",
       "      <td>1</td>\n",
       "      <td>20</td>\n",
       "      <td>17</td>\n",
       "      <td>42</td>\n",
       "      <td>19</td>\n",
       "      <td>3</td>\n",
       "      <td>28</td>\n",
       "      <td>19</td>\n",
       "      <td>6</td>\n",
       "      <td>2</td>\n",
       "      <td>0</td>\n",
       "      <td>Not_Delayed</td>\n",
       "      <td>5.303305</td>\n",
       "    </tr>\n",
       "    <tr>\n",
       "      <th>8</th>\n",
       "      <td>6</td>\n",
       "      <td>13</td>\n",
       "      <td>14</td>\n",
       "      <td>20</td>\n",
       "      <td>15</td>\n",
       "      <td>50</td>\n",
       "      <td>18</td>\n",
       "      <td>31</td>\n",
       "      <td>5</td>\n",
       "      <td>3</td>\n",
       "      <td>0</td>\n",
       "      <td>Not_Delayed</td>\n",
       "      <td>5.891644</td>\n",
       "    </tr>\n",
       "    <tr>\n",
       "      <th>10</th>\n",
       "      <td>8</td>\n",
       "      <td>13</td>\n",
       "      <td>17</td>\n",
       "      <td>30</td>\n",
       "      <td>18</td>\n",
       "      <td>44</td>\n",
       "      <td>47</td>\n",
       "      <td>36</td>\n",
       "      <td>3</td>\n",
       "      <td>0</td>\n",
       "      <td>0</td>\n",
       "      <td>Delayed</td>\n",
       "      <td>5.323010</td>\n",
       "    </tr>\n",
       "    <tr>\n",
       "      <th>12</th>\n",
       "      <td>1</td>\n",
       "      <td>12</td>\n",
       "      <td>10</td>\n",
       "      <td>15</td>\n",
       "      <td>11</td>\n",
       "      <td>45</td>\n",
       "      <td>33</td>\n",
       "      <td>5</td>\n",
       "      <td>5</td>\n",
       "      <td>3</td>\n",
       "      <td>0</td>\n",
       "      <td>Not_Delayed</td>\n",
       "      <td>7.091742</td>\n",
       "    </tr>\n",
       "    <tr>\n",
       "      <th>...</th>\n",
       "      <td>...</td>\n",
       "      <td>...</td>\n",
       "      <td>...</td>\n",
       "      <td>...</td>\n",
       "      <td>...</td>\n",
       "      <td>...</td>\n",
       "      <td>...</td>\n",
       "      <td>...</td>\n",
       "      <td>...</td>\n",
       "      <td>...</td>\n",
       "      <td>...</td>\n",
       "      <td>...</td>\n",
       "      <td>...</td>\n",
       "    </tr>\n",
       "    <tr>\n",
       "      <th>999962</th>\n",
       "      <td>10</td>\n",
       "      <td>11</td>\n",
       "      <td>6</td>\n",
       "      <td>0</td>\n",
       "      <td>20</td>\n",
       "      <td>3</td>\n",
       "      <td>42</td>\n",
       "      <td>11</td>\n",
       "      <td>4</td>\n",
       "      <td>2</td>\n",
       "      <td>4</td>\n",
       "      <td>Not_Delayed</td>\n",
       "      <td>6.948897</td>\n",
       "    </tr>\n",
       "    <tr>\n",
       "      <th>999963</th>\n",
       "      <td>5</td>\n",
       "      <td>2</td>\n",
       "      <td>17</td>\n",
       "      <td>59</td>\n",
       "      <td>19</td>\n",
       "      <td>26</td>\n",
       "      <td>30</td>\n",
       "      <td>47</td>\n",
       "      <td>5</td>\n",
       "      <td>1</td>\n",
       "      <td>6</td>\n",
       "      <td>Delayed</td>\n",
       "      <td>5.370638</td>\n",
       "    </tr>\n",
       "    <tr>\n",
       "      <th>999969</th>\n",
       "      <td>10</td>\n",
       "      <td>10</td>\n",
       "      <td>9</td>\n",
       "      <td>40</td>\n",
       "      <td>10</td>\n",
       "      <td>56</td>\n",
       "      <td>42</td>\n",
       "      <td>42</td>\n",
       "      <td>7</td>\n",
       "      <td>2</td>\n",
       "      <td>7</td>\n",
       "      <td>Delayed</td>\n",
       "      <td>5.758902</td>\n",
       "    </tr>\n",
       "    <tr>\n",
       "      <th>999985</th>\n",
       "      <td>8</td>\n",
       "      <td>8</td>\n",
       "      <td>19</td>\n",
       "      <td>14</td>\n",
       "      <td>20</td>\n",
       "      <td>39</td>\n",
       "      <td>31</td>\n",
       "      <td>7</td>\n",
       "      <td>7</td>\n",
       "      <td>4</td>\n",
       "      <td>7</td>\n",
       "      <td>Not_Delayed</td>\n",
       "      <td>6.011267</td>\n",
       "    </tr>\n",
       "    <tr>\n",
       "      <th>999992</th>\n",
       "      <td>12</td>\n",
       "      <td>30</td>\n",
       "      <td>13</td>\n",
       "      <td>7</td>\n",
       "      <td>17</td>\n",
       "      <td>7</td>\n",
       "      <td>51</td>\n",
       "      <td>11</td>\n",
       "      <td>6</td>\n",
       "      <td>2</td>\n",
       "      <td>3</td>\n",
       "      <td>Not_Delayed</td>\n",
       "      <td>7.058758</td>\n",
       "    </tr>\n",
       "  </tbody>\n",
       "</table>\n",
       "<p>255001 rows × 13 columns</p>\n",
       "</div>"
      ],
      "text/plain": [
       "        Month  Day_of_Month  Estimated_Departure_Hour  \\\n",
       "5           4            13                        15   \n",
       "6           1            20                        17   \n",
       "8           6            13                        14   \n",
       "10          8            13                        17   \n",
       "12          1            12                        10   \n",
       "...       ...           ...                       ...   \n",
       "999962     10            11                         6   \n",
       "999963      5             2                        17   \n",
       "999969     10            10                         9   \n",
       "999985      8             8                        19   \n",
       "999992     12            30                        13   \n",
       "\n",
       "        Estimated_Departure_Min  Estimated_Arrival_Hour  \\\n",
       "5                            45                      19   \n",
       "6                            42                      19   \n",
       "8                            20                      15   \n",
       "10                           30                      18   \n",
       "12                           15                      11   \n",
       "...                         ...                     ...   \n",
       "999962                        0                      20   \n",
       "999963                       59                      19   \n",
       "999969                       40                      10   \n",
       "999985                       14                      20   \n",
       "999992                        7                      17   \n",
       "\n",
       "        Estimated_Arrival_Min  Origin_State  Destination_State  Airline  \\\n",
       "5                           0            28                 47        3   \n",
       "6                           3            28                 19        6   \n",
       "8                          50            18                 31        5   \n",
       "10                         44            47                 36        3   \n",
       "12                         45            33                  5        5   \n",
       "...                       ...           ...                ...      ...   \n",
       "999962                      3            42                 11        4   \n",
       "999963                     26            30                 47        5   \n",
       "999969                     56            42                 42        7   \n",
       "999985                     39            31                  7        7   \n",
       "999992                      7            51                 11        6   \n",
       "\n",
       "        Carrier_Code(IATA)  Carrier_ID(DOT)        Delay  Distance_log1p  \n",
       "5                        2                6  Not_Delayed        5.298317  \n",
       "6                        2                0  Not_Delayed        5.303305  \n",
       "8                        3                0  Not_Delayed        5.891644  \n",
       "10                       0                0      Delayed        5.323010  \n",
       "12                       3                0  Not_Delayed        7.091742  \n",
       "...                    ...              ...          ...             ...  \n",
       "999962                   2                4  Not_Delayed        6.948897  \n",
       "999963                   1                6      Delayed        5.370638  \n",
       "999969                   2                7      Delayed        5.758902  \n",
       "999985                   4                7  Not_Delayed        6.011267  \n",
       "999992                   2                3  Not_Delayed        7.058758  \n",
       "\n",
       "[255001 rows x 13 columns]"
      ]
     },
     "execution_count": 91,
     "metadata": {},
     "output_type": "execute_result"
    }
   ],
   "source": [
    "labeled_train = train.dropna()\n",
    "labeled_train"
   ]
  },
  {
   "cell_type": "code",
   "execution_count": 92,
   "metadata": {},
   "outputs": [
    {
     "data": {
      "text/plain": [
       "{'Not_Delayed': 0, 'Delayed': 1}"
      ]
     },
     "execution_count": 92,
     "metadata": {},
     "output_type": "execute_result"
    }
   ],
   "source": [
    "column_number = {}\n",
    "for i, column in enumerate(sample_submission.columns):\n",
    "    column_number[column] = i\n",
    "\n",
    "column_number"
   ]
  },
  {
   "cell_type": "code",
   "execution_count": 93,
   "metadata": {},
   "outputs": [
    {
     "name": "stderr",
     "output_type": "stream",
     "text": [
      "<ipython-input-93-2b69c87db1c2>:1: SettingWithCopyWarning: \n",
      "A value is trying to be set on a copy of a slice from a DataFrame.\n",
      "Try using .loc[row_indexer,col_indexer] = value instead\n",
      "\n",
      "See the caveats in the documentation: https://pandas.pydata.org/pandas-docs/stable/user_guide/indexing.html#returning-a-view-versus-a-copy\n",
      "  labeled_train['Delay'] = labeled_train['Delay'].map(column_number)\n"
     ]
    }
   ],
   "source": [
    "labeled_train['Delay'] = labeled_train['Delay'].map(column_number)"
   ]
  },
  {
   "cell_type": "code",
   "execution_count": 94,
   "metadata": {},
   "outputs": [
    {
     "data": {
      "text/html": [
       "<div>\n",
       "<style scoped>\n",
       "    .dataframe tbody tr th:only-of-type {\n",
       "        vertical-align: middle;\n",
       "    }\n",
       "\n",
       "    .dataframe tbody tr th {\n",
       "        vertical-align: top;\n",
       "    }\n",
       "\n",
       "    .dataframe thead th {\n",
       "        text-align: right;\n",
       "    }\n",
       "</style>\n",
       "<table border=\"1\" class=\"dataframe\">\n",
       "  <thead>\n",
       "    <tr style=\"text-align: right;\">\n",
       "      <th></th>\n",
       "      <th>Month</th>\n",
       "      <th>Day_of_Month</th>\n",
       "      <th>Estimated_Departure_Hour</th>\n",
       "      <th>Estimated_Departure_Min</th>\n",
       "      <th>Estimated_Arrival_Hour</th>\n",
       "      <th>Estimated_Arrival_Min</th>\n",
       "      <th>Origin_State</th>\n",
       "      <th>Destination_State</th>\n",
       "      <th>Airline</th>\n",
       "      <th>Carrier_Code(IATA)</th>\n",
       "      <th>Carrier_ID(DOT)</th>\n",
       "      <th>Delay</th>\n",
       "      <th>Distance_log1p</th>\n",
       "    </tr>\n",
       "  </thead>\n",
       "  <tbody>\n",
       "    <tr>\n",
       "      <th>0</th>\n",
       "      <td>4</td>\n",
       "      <td>15</td>\n",
       "      <td>6</td>\n",
       "      <td>0</td>\n",
       "      <td>19</td>\n",
       "      <td>0</td>\n",
       "      <td>34</td>\n",
       "      <td>42</td>\n",
       "      <td>5</td>\n",
       "      <td>3</td>\n",
       "      <td>0</td>\n",
       "      <td>None</td>\n",
       "      <td>6.040255</td>\n",
       "    </tr>\n",
       "    <tr>\n",
       "      <th>1</th>\n",
       "      <td>8</td>\n",
       "      <td>15</td>\n",
       "      <td>7</td>\n",
       "      <td>40</td>\n",
       "      <td>10</td>\n",
       "      <td>24</td>\n",
       "      <td>11</td>\n",
       "      <td>45</td>\n",
       "      <td>4</td>\n",
       "      <td>2</td>\n",
       "      <td>4</td>\n",
       "      <td>None</td>\n",
       "      <td>7.131699</td>\n",
       "    </tr>\n",
       "    <tr>\n",
       "      <th>2</th>\n",
       "      <td>9</td>\n",
       "      <td>6</td>\n",
       "      <td>16</td>\n",
       "      <td>10</td>\n",
       "      <td>18</td>\n",
       "      <td>5</td>\n",
       "      <td>31</td>\n",
       "      <td>30</td>\n",
       "      <td>0</td>\n",
       "      <td>0</td>\n",
       "      <td>2</td>\n",
       "      <td>None</td>\n",
       "      <td>6.300786</td>\n",
       "    </tr>\n",
       "    <tr>\n",
       "      <th>3</th>\n",
       "      <td>7</td>\n",
       "      <td>10</td>\n",
       "      <td>9</td>\n",
       "      <td>5</td>\n",
       "      <td>17</td>\n",
       "      <td>35</td>\n",
       "      <td>4</td>\n",
       "      <td>28</td>\n",
       "      <td>6</td>\n",
       "      <td>2</td>\n",
       "      <td>0</td>\n",
       "      <td>None</td>\n",
       "      <td>7.805882</td>\n",
       "    </tr>\n",
       "    <tr>\n",
       "      <th>4</th>\n",
       "      <td>1</td>\n",
       "      <td>11</td>\n",
       "      <td>9</td>\n",
       "      <td>0</td>\n",
       "      <td>10</td>\n",
       "      <td>19</td>\n",
       "      <td>4</td>\n",
       "      <td>4</td>\n",
       "      <td>4</td>\n",
       "      <td>2</td>\n",
       "      <td>4</td>\n",
       "      <td>None</td>\n",
       "      <td>5.525453</td>\n",
       "    </tr>\n",
       "    <tr>\n",
       "      <th>...</th>\n",
       "      <td>...</td>\n",
       "      <td>...</td>\n",
       "      <td>...</td>\n",
       "      <td>...</td>\n",
       "      <td>...</td>\n",
       "      <td>...</td>\n",
       "      <td>...</td>\n",
       "      <td>...</td>\n",
       "      <td>...</td>\n",
       "      <td>...</td>\n",
       "      <td>...</td>\n",
       "      <td>...</td>\n",
       "      <td>...</td>\n",
       "    </tr>\n",
       "    <tr>\n",
       "      <th>999995</th>\n",
       "      <td>9</td>\n",
       "      <td>18</td>\n",
       "      <td>9</td>\n",
       "      <td>36</td>\n",
       "      <td>12</td>\n",
       "      <td>43</td>\n",
       "      <td>11</td>\n",
       "      <td>36</td>\n",
       "      <td>6</td>\n",
       "      <td>2</td>\n",
       "      <td>3</td>\n",
       "      <td>None</td>\n",
       "      <td>6.520621</td>\n",
       "    </tr>\n",
       "    <tr>\n",
       "      <th>999996</th>\n",
       "      <td>5</td>\n",
       "      <td>30</td>\n",
       "      <td>9</td>\n",
       "      <td>20</td>\n",
       "      <td>10</td>\n",
       "      <td>28</td>\n",
       "      <td>32</td>\n",
       "      <td>21</td>\n",
       "      <td>4</td>\n",
       "      <td>1</td>\n",
       "      <td>0</td>\n",
       "      <td>None</td>\n",
       "      <td>5.411646</td>\n",
       "    </tr>\n",
       "    <tr>\n",
       "      <th>999997</th>\n",
       "      <td>6</td>\n",
       "      <td>28</td>\n",
       "      <td>8</td>\n",
       "      <td>0</td>\n",
       "      <td>13</td>\n",
       "      <td>40</td>\n",
       "      <td>4</td>\n",
       "      <td>42</td>\n",
       "      <td>5</td>\n",
       "      <td>3</td>\n",
       "      <td>0</td>\n",
       "      <td>None</td>\n",
       "      <td>7.404279</td>\n",
       "    </tr>\n",
       "    <tr>\n",
       "      <th>999998</th>\n",
       "      <td>9</td>\n",
       "      <td>27</td>\n",
       "      <td>16</td>\n",
       "      <td>13</td>\n",
       "      <td>18</td>\n",
       "      <td>24</td>\n",
       "      <td>41</td>\n",
       "      <td>8</td>\n",
       "      <td>1</td>\n",
       "      <td>1</td>\n",
       "      <td>1</td>\n",
       "      <td>None</td>\n",
       "      <td>5.370638</td>\n",
       "    </tr>\n",
       "    <tr>\n",
       "      <th>999999</th>\n",
       "      <td>3</td>\n",
       "      <td>26</td>\n",
       "      <td>18</td>\n",
       "      <td>0</td>\n",
       "      <td>20</td>\n",
       "      <td>56</td>\n",
       "      <td>7</td>\n",
       "      <td>20</td>\n",
       "      <td>5</td>\n",
       "      <td>1</td>\n",
       "      <td>1</td>\n",
       "      <td>None</td>\n",
       "      <td>6.989335</td>\n",
       "    </tr>\n",
       "  </tbody>\n",
       "</table>\n",
       "<p>744999 rows × 13 columns</p>\n",
       "</div>"
      ],
      "text/plain": [
       "        Month  Day_of_Month  Estimated_Departure_Hour  \\\n",
       "0           4            15                         6   \n",
       "1           8            15                         7   \n",
       "2           9             6                        16   \n",
       "3           7            10                         9   \n",
       "4           1            11                         9   \n",
       "...       ...           ...                       ...   \n",
       "999995      9            18                         9   \n",
       "999996      5            30                         9   \n",
       "999997      6            28                         8   \n",
       "999998      9            27                        16   \n",
       "999999      3            26                        18   \n",
       "\n",
       "        Estimated_Departure_Min  Estimated_Arrival_Hour  \\\n",
       "0                             0                      19   \n",
       "1                            40                      10   \n",
       "2                            10                      18   \n",
       "3                             5                      17   \n",
       "4                             0                      10   \n",
       "...                         ...                     ...   \n",
       "999995                       36                      12   \n",
       "999996                       20                      10   \n",
       "999997                        0                      13   \n",
       "999998                       13                      18   \n",
       "999999                        0                      20   \n",
       "\n",
       "        Estimated_Arrival_Min  Origin_State  Destination_State  Airline  \\\n",
       "0                           0            34                 42        5   \n",
       "1                          24            11                 45        4   \n",
       "2                           5            31                 30        0   \n",
       "3                          35             4                 28        6   \n",
       "4                          19             4                  4        4   \n",
       "...                       ...           ...                ...      ...   \n",
       "999995                     43            11                 36        6   \n",
       "999996                     28            32                 21        4   \n",
       "999997                     40             4                 42        5   \n",
       "999998                     24            41                  8        1   \n",
       "999999                     56             7                 20        5   \n",
       "\n",
       "        Carrier_Code(IATA)  Carrier_ID(DOT) Delay  Distance_log1p  \n",
       "0                        3                0  None        6.040255  \n",
       "1                        2                4  None        7.131699  \n",
       "2                        0                2  None        6.300786  \n",
       "3                        2                0  None        7.805882  \n",
       "4                        2                4  None        5.525453  \n",
       "...                    ...              ...   ...             ...  \n",
       "999995                   2                3  None        6.520621  \n",
       "999996                   1                0  None        5.411646  \n",
       "999997                   3                0  None        7.404279  \n",
       "999998                   1                1  None        5.370638  \n",
       "999999                   1                1  None        6.989335  \n",
       "\n",
       "[744999 rows x 13 columns]"
      ]
     },
     "execution_count": 94,
     "metadata": {},
     "output_type": "execute_result"
    }
   ],
   "source": [
    "unlabeled_train = train[train['Delay'].isna()]\n",
    "unlabeled_train"
   ]
  },
  {
   "cell_type": "code",
   "execution_count": 95,
   "metadata": {},
   "outputs": [],
   "source": [
    "labeled_X_train = labeled_train.drop(['Delay'],axis=1)\n",
    "labeled_y_train = labeled_train['Delay']"
   ]
  },
  {
   "cell_type": "code",
   "execution_count": 96,
   "metadata": {},
   "outputs": [],
   "source": [
    "unlabeled_X_train = unlabeled_train.drop(['Delay'], axis=1)"
   ]
  },
  {
   "cell_type": "markdown",
   "metadata": {},
   "source": [
    "##### 모델링"
   ]
  },
  {
   "cell_type": "code",
   "execution_count": 97,
   "metadata": {},
   "outputs": [],
   "source": [
    "RF_model = RandomForestClassifier(n_estimators=500, random_state=42)"
   ]
  },
  {
   "cell_type": "code",
   "execution_count": 98,
   "metadata": {},
   "outputs": [
    {
     "data": {
      "text/plain": [
       "KFold(n_splits=5, random_state=42, shuffle=True)"
      ]
     },
     "execution_count": 98,
     "metadata": {},
     "output_type": "execute_result"
    }
   ],
   "source": [
    "kf = KFold(n_splits=5, shuffle=True, random_state=42)\n",
    "kf"
   ]
  },
  {
   "cell_type": "code",
   "execution_count": 99,
   "metadata": {},
   "outputs": [
    {
     "data": {
      "text/plain": [
       "['accuracy',\n",
       " 'adjusted_mutual_info_score',\n",
       " 'adjusted_rand_score',\n",
       " 'average_precision',\n",
       " 'balanced_accuracy',\n",
       " 'completeness_score',\n",
       " 'explained_variance',\n",
       " 'f1',\n",
       " 'f1_macro',\n",
       " 'f1_micro',\n",
       " 'f1_samples',\n",
       " 'f1_weighted',\n",
       " 'fowlkes_mallows_score',\n",
       " 'homogeneity_score',\n",
       " 'jaccard',\n",
       " 'jaccard_macro',\n",
       " 'jaccard_micro',\n",
       " 'jaccard_samples',\n",
       " 'jaccard_weighted',\n",
       " 'matthews_corrcoef',\n",
       " 'max_error',\n",
       " 'mutual_info_score',\n",
       " 'neg_brier_score',\n",
       " 'neg_log_loss',\n",
       " 'neg_mean_absolute_error',\n",
       " 'neg_mean_absolute_percentage_error',\n",
       " 'neg_mean_gamma_deviance',\n",
       " 'neg_mean_poisson_deviance',\n",
       " 'neg_mean_squared_error',\n",
       " 'neg_mean_squared_log_error',\n",
       " 'neg_median_absolute_error',\n",
       " 'neg_root_mean_squared_error',\n",
       " 'normalized_mutual_info_score',\n",
       " 'precision',\n",
       " 'precision_macro',\n",
       " 'precision_micro',\n",
       " 'precision_samples',\n",
       " 'precision_weighted',\n",
       " 'r2',\n",
       " 'rand_score',\n",
       " 'recall',\n",
       " 'recall_macro',\n",
       " 'recall_micro',\n",
       " 'recall_samples',\n",
       " 'recall_weighted',\n",
       " 'roc_auc',\n",
       " 'roc_auc_ovo',\n",
       " 'roc_auc_ovo_weighted',\n",
       " 'roc_auc_ovr',\n",
       " 'roc_auc_ovr_weighted',\n",
       " 'top_k_accuracy',\n",
       " 'v_measure_score']"
      ]
     },
     "execution_count": 99,
     "metadata": {},
     "output_type": "execute_result"
    }
   ],
   "source": [
    "sklearn.metrics.get_scorer_names()"
   ]
  },
  {
   "cell_type": "code",
   "execution_count": 100,
   "metadata": {},
   "outputs": [
    {
     "data": {
      "text/plain": [
       "array([-0.45952336, -0.45351602, -0.45724174, -0.45747537, -0.45079692])"
      ]
     },
     "execution_count": 100,
     "metadata": {},
     "output_type": "execute_result"
    }
   ],
   "source": [
    "scores = cross_val_score(\n",
    "    RF_model, labeled_X_train, labeled_y_train, cv=kf, n_jobs=-1,\n",
    "    scoring='neg_log_loss'\n",
    ")\n",
    "scores\n"
   ]
  },
  {
   "cell_type": "code",
   "execution_count": 101,
   "metadata": {},
   "outputs": [
    {
     "data": {
      "text/plain": [
       "array([0, 0, 0, ..., 0, 0, 0], dtype=int64)"
      ]
     },
     "execution_count": 101,
     "metadata": {},
     "output_type": "execute_result"
    }
   ],
   "source": [
    "y_valid_predict = cross_val_predict(\n",
    "    RF_model, labeled_X_train, labeled_y_train, cv=5, n_jobs=-1)\n",
    "y_valid_predict"
   ]
  },
  {
   "cell_type": "code",
   "execution_count": 102,
   "metadata": {},
   "outputs": [
    {
     "data": {
      "text/plain": [
       "0.8189340433959083"
      ]
     },
     "execution_count": 102,
     "metadata": {},
     "output_type": "execute_result"
    }
   ],
   "source": [
    "(y_valid_predict == labeled_y_train).mean()"
   ]
  },
  {
   "cell_type": "code",
   "execution_count": 109,
   "metadata": {},
   "outputs": [
    {
     "data": {
      "text/plain": [
       "-0.24591006413196936"
      ]
     },
     "execution_count": 109,
     "metadata": {},
     "output_type": "execute_result"
    }
   ],
   "source": [
    "from sklearn.metrics import r2_score\n",
    "r2_score(labeled_y_train, y_valid_predict)"
   ]
  },
  {
   "cell_type": "markdown",
   "metadata": {},
   "source": [
    "##### 준지도학습X.ver"
   ]
  },
  {
   "cell_type": "code",
   "execution_count": 104,
   "metadata": {},
   "outputs": [
    {
     "data": {
      "text/html": [
       "<style>#sk-container-id-1 {color: black;background-color: white;}#sk-container-id-1 pre{padding: 0;}#sk-container-id-1 div.sk-toggleable {background-color: white;}#sk-container-id-1 label.sk-toggleable__label {cursor: pointer;display: block;width: 100%;margin-bottom: 0;padding: 0.3em;box-sizing: border-box;text-align: center;}#sk-container-id-1 label.sk-toggleable__label-arrow:before {content: \"▸\";float: left;margin-right: 0.25em;color: #696969;}#sk-container-id-1 label.sk-toggleable__label-arrow:hover:before {color: black;}#sk-container-id-1 div.sk-estimator:hover label.sk-toggleable__label-arrow:before {color: black;}#sk-container-id-1 div.sk-toggleable__content {max-height: 0;max-width: 0;overflow: hidden;text-align: left;background-color: #f0f8ff;}#sk-container-id-1 div.sk-toggleable__content pre {margin: 0.2em;color: black;border-radius: 0.25em;background-color: #f0f8ff;}#sk-container-id-1 input.sk-toggleable__control:checked~div.sk-toggleable__content {max-height: 200px;max-width: 100%;overflow: auto;}#sk-container-id-1 input.sk-toggleable__control:checked~label.sk-toggleable__label-arrow:before {content: \"▾\";}#sk-container-id-1 div.sk-estimator input.sk-toggleable__control:checked~label.sk-toggleable__label {background-color: #d4ebff;}#sk-container-id-1 div.sk-label input.sk-toggleable__control:checked~label.sk-toggleable__label {background-color: #d4ebff;}#sk-container-id-1 input.sk-hidden--visually {border: 0;clip: rect(1px 1px 1px 1px);clip: rect(1px, 1px, 1px, 1px);height: 1px;margin: -1px;overflow: hidden;padding: 0;position: absolute;width: 1px;}#sk-container-id-1 div.sk-estimator {font-family: monospace;background-color: #f0f8ff;border: 1px dotted black;border-radius: 0.25em;box-sizing: border-box;margin-bottom: 0.5em;}#sk-container-id-1 div.sk-estimator:hover {background-color: #d4ebff;}#sk-container-id-1 div.sk-parallel-item::after {content: \"\";width: 100%;border-bottom: 1px solid gray;flex-grow: 1;}#sk-container-id-1 div.sk-label:hover label.sk-toggleable__label {background-color: #d4ebff;}#sk-container-id-1 div.sk-serial::before {content: \"\";position: absolute;border-left: 1px solid gray;box-sizing: border-box;top: 0;bottom: 0;left: 50%;z-index: 0;}#sk-container-id-1 div.sk-serial {display: flex;flex-direction: column;align-items: center;background-color: white;padding-right: 0.2em;padding-left: 0.2em;position: relative;}#sk-container-id-1 div.sk-item {position: relative;z-index: 1;}#sk-container-id-1 div.sk-parallel {display: flex;align-items: stretch;justify-content: center;background-color: white;position: relative;}#sk-container-id-1 div.sk-item::before, #sk-container-id-1 div.sk-parallel-item::before {content: \"\";position: absolute;border-left: 1px solid gray;box-sizing: border-box;top: 0;bottom: 0;left: 50%;z-index: -1;}#sk-container-id-1 div.sk-parallel-item {display: flex;flex-direction: column;z-index: 1;position: relative;background-color: white;}#sk-container-id-1 div.sk-parallel-item:first-child::after {align-self: flex-end;width: 50%;}#sk-container-id-1 div.sk-parallel-item:last-child::after {align-self: flex-start;width: 50%;}#sk-container-id-1 div.sk-parallel-item:only-child::after {width: 0;}#sk-container-id-1 div.sk-dashed-wrapped {border: 1px dashed gray;margin: 0 0.4em 0.5em 0.4em;box-sizing: border-box;padding-bottom: 0.4em;background-color: white;}#sk-container-id-1 div.sk-label label {font-family: monospace;font-weight: bold;display: inline-block;line-height: 1.2em;}#sk-container-id-1 div.sk-label-container {text-align: center;}#sk-container-id-1 div.sk-container {/* jupyter's `normalize.less` sets `[hidden] { display: none; }` but bootstrap.min.css set `[hidden] { display: none !important; }` so we also need the `!important` here to be able to override the default hidden behavior on the sphinx rendered scikit-learn.org. See: https://github.com/scikit-learn/scikit-learn/issues/21755 */display: inline-block !important;position: relative;}#sk-container-id-1 div.sk-text-repr-fallback {display: none;}</style><div id=\"sk-container-id-1\" class=\"sk-top-container\"><div class=\"sk-text-repr-fallback\"><pre>RandomForestClassifier(n_estimators=500, random_state=42)</pre><b>In a Jupyter environment, please rerun this cell to show the HTML representation or trust the notebook. <br />On GitHub, the HTML representation is unable to render, please try loading this page with nbviewer.org.</b></div><div class=\"sk-container\" hidden><div class=\"sk-item\"><div class=\"sk-estimator sk-toggleable\"><input class=\"sk-toggleable__control sk-hidden--visually\" id=\"sk-estimator-id-1\" type=\"checkbox\" checked><label for=\"sk-estimator-id-1\" class=\"sk-toggleable__label sk-toggleable__label-arrow\">RandomForestClassifier</label><div class=\"sk-toggleable__content\"><pre>RandomForestClassifier(n_estimators=500, random_state=42)</pre></div></div></div></div></div>"
      ],
      "text/plain": [
       "RandomForestClassifier(n_estimators=500, random_state=42)"
      ]
     },
     "execution_count": 104,
     "metadata": {},
     "output_type": "execute_result"
    }
   ],
   "source": [
    "clf = RandomForestClassifier(n_estimators=500, random_state=42)\n",
    "clf.fit(labeled_X_train, labeled_y_train)"
   ]
  },
  {
   "cell_type": "code",
   "execution_count": 112,
   "metadata": {},
   "outputs": [],
   "source": [
    "X_test = test.drop(['Delay'],axis=1)"
   ]
  },
  {
   "cell_type": "code",
   "execution_count": 113,
   "metadata": {},
   "outputs": [
    {
     "data": {
      "text/plain": [
       "array([[0.676, 0.324],\n",
       "       [0.67 , 0.33 ],\n",
       "       [0.402, 0.598],\n",
       "       ...,\n",
       "       [0.83 , 0.17 ],\n",
       "       [0.86 , 0.14 ],\n",
       "       [0.93 , 0.07 ]])"
      ]
     },
     "execution_count": 113,
     "metadata": {},
     "output_type": "execute_result"
    }
   ],
   "source": [
    "y_pred = clf.predict_proba(X_test)\n",
    "y_pred\n"
   ]
  },
  {
   "cell_type": "code",
   "execution_count": 114,
   "metadata": {},
   "outputs": [],
   "source": [
    "submission = pd.DataFrame(\n",
    "    data=y_pred, columns=sample_submission.columns, index=sample_submission.index)"
   ]
  },
  {
   "cell_type": "code",
   "execution_count": 115,
   "metadata": {},
   "outputs": [
    {
     "data": {
      "text/html": [
       "<div>\n",
       "<style scoped>\n",
       "    .dataframe tbody tr th:only-of-type {\n",
       "        vertical-align: middle;\n",
       "    }\n",
       "\n",
       "    .dataframe tbody tr th {\n",
       "        vertical-align: top;\n",
       "    }\n",
       "\n",
       "    .dataframe thead th {\n",
       "        text-align: right;\n",
       "    }\n",
       "</style>\n",
       "<table border=\"1\" class=\"dataframe\">\n",
       "  <thead>\n",
       "    <tr style=\"text-align: right;\">\n",
       "      <th></th>\n",
       "      <th>Not_Delayed</th>\n",
       "      <th>Delayed</th>\n",
       "    </tr>\n",
       "    <tr>\n",
       "      <th>ID</th>\n",
       "      <th></th>\n",
       "      <th></th>\n",
       "    </tr>\n",
       "  </thead>\n",
       "  <tbody>\n",
       "    <tr>\n",
       "      <th>TEST_000000</th>\n",
       "      <td>0.676</td>\n",
       "      <td>0.324</td>\n",
       "    </tr>\n",
       "    <tr>\n",
       "      <th>TEST_000001</th>\n",
       "      <td>0.670</td>\n",
       "      <td>0.330</td>\n",
       "    </tr>\n",
       "    <tr>\n",
       "      <th>TEST_000002</th>\n",
       "      <td>0.402</td>\n",
       "      <td>0.598</td>\n",
       "    </tr>\n",
       "    <tr>\n",
       "      <th>TEST_000003</th>\n",
       "      <td>0.568</td>\n",
       "      <td>0.432</td>\n",
       "    </tr>\n",
       "    <tr>\n",
       "      <th>TEST_000004</th>\n",
       "      <td>0.652</td>\n",
       "      <td>0.348</td>\n",
       "    </tr>\n",
       "    <tr>\n",
       "      <th>...</th>\n",
       "      <td>...</td>\n",
       "      <td>...</td>\n",
       "    </tr>\n",
       "    <tr>\n",
       "      <th>TEST_999995</th>\n",
       "      <td>0.560</td>\n",
       "      <td>0.440</td>\n",
       "    </tr>\n",
       "    <tr>\n",
       "      <th>TEST_999996</th>\n",
       "      <td>0.876</td>\n",
       "      <td>0.124</td>\n",
       "    </tr>\n",
       "    <tr>\n",
       "      <th>TEST_999997</th>\n",
       "      <td>0.830</td>\n",
       "      <td>0.170</td>\n",
       "    </tr>\n",
       "    <tr>\n",
       "      <th>TEST_999998</th>\n",
       "      <td>0.860</td>\n",
       "      <td>0.140</td>\n",
       "    </tr>\n",
       "    <tr>\n",
       "      <th>TEST_999999</th>\n",
       "      <td>0.930</td>\n",
       "      <td>0.070</td>\n",
       "    </tr>\n",
       "  </tbody>\n",
       "</table>\n",
       "<p>1000000 rows × 2 columns</p>\n",
       "</div>"
      ],
      "text/plain": [
       "             Not_Delayed  Delayed\n",
       "ID                               \n",
       "TEST_000000        0.676    0.324\n",
       "TEST_000001        0.670    0.330\n",
       "TEST_000002        0.402    0.598\n",
       "TEST_000003        0.568    0.432\n",
       "TEST_000004        0.652    0.348\n",
       "...                  ...      ...\n",
       "TEST_999995        0.560    0.440\n",
       "TEST_999996        0.876    0.124\n",
       "TEST_999997        0.830    0.170\n",
       "TEST_999998        0.860    0.140\n",
       "TEST_999999        0.930    0.070\n",
       "\n",
       "[1000000 rows x 2 columns]"
      ]
     },
     "execution_count": 115,
     "metadata": {},
     "output_type": "execute_result"
    }
   ],
   "source": [
    "submission"
   ]
  },
  {
   "cell_type": "code",
   "execution_count": 116,
   "metadata": {},
   "outputs": [],
   "source": [
    "submission.to_csv('./submissions/baseline_submission_230421.csv', index=True)"
   ]
  },
  {
   "cell_type": "markdown",
   "metadata": {},
   "source": [
    "##### 준지도학습O.ver"
   ]
  },
  {
   "cell_type": "code",
   "execution_count": 104,
   "metadata": {},
   "outputs": [
    {
     "data": {
      "text/plain": [
       "255001"
      ]
     },
     "execution_count": 104,
     "metadata": {},
     "output_type": "execute_result"
    }
   ],
   "source": [
    "len(y_valid_predict)"
   ]
  },
  {
   "cell_type": "code",
   "execution_count": 110,
   "metadata": {},
   "outputs": [
    {
     "data": {
      "text/plain": [
       "array([0, 0, 0, ..., 0, 0, 0], dtype=int64)"
      ]
     },
     "execution_count": 110,
     "metadata": {},
     "output_type": "execute_result"
    }
   ],
   "source": [
    "unlabeled_y_train = RF_model.fit(labeled_X_train,labeled_y_train).predict(unlabeled_X_train)\n",
    "unlabeled_y_train"
   ]
  },
  {
   "cell_type": "code",
   "execution_count": 111,
   "metadata": {},
   "outputs": [
    {
     "data": {
      "text/plain": [
       "744999"
      ]
     },
     "execution_count": 111,
     "metadata": {},
     "output_type": "execute_result"
    }
   ],
   "source": [
    "len(unlabeled_y_train)"
   ]
  },
  {
   "cell_type": "code",
   "execution_count": null,
   "metadata": {},
   "outputs": [],
   "source": []
  }
 ],
 "metadata": {
  "interpreter": {
   "hash": "1c1f657b55f9e5c8540078b860d4dd0ddd2a500de25085401787f024aa7c4e1a"
  },
  "kernelspec": {
   "display_name": "Python 3.8.5 ('base')",
   "language": "python",
   "name": "python3"
  },
  "language_info": {
   "codemirror_mode": {
    "name": "ipython",
    "version": 3
   },
   "file_extension": ".py",
   "mimetype": "text/x-python",
   "name": "python",
   "nbconvert_exporter": "python",
   "pygments_lexer": "ipython3",
   "version": "3.8.5"
  },
  "orig_nbformat": 4
 },
 "nbformat": 4,
 "nbformat_minor": 2
}
